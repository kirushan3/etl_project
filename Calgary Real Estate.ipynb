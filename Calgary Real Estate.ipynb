{
 "cells": [
  {
   "cell_type": "markdown",
   "metadata": {},
   "source": [
    "### Remax"
   ]
  },
  {
   "cell_type": "code",
   "execution_count": 1,
   "metadata": {},
   "outputs": [
    {
     "name": "stdout",
     "output_type": "stream",
     "text": [
      "Libraries imported!\n"
     ]
    }
   ],
   "source": [
    "import pandas as pd\n",
    "import numpy as np\n",
    "import requests\n",
    "from bs4 import BeautifulSoup\n",
    "import time\n",
    "from splinter import Browser\n",
    "from sqlalchemy import create_engine\n",
    "import warnings\n",
    "warnings.filterwarnings('ignore')\n",
    "print('Libraries imported!')"
   ]
  },
  {
   "cell_type": "code",
   "execution_count": 2,
   "metadata": {},
   "outputs": [],
   "source": [
    "house_address = []\n",
    "house_details = []\n",
    "\n",
    "base_url = 'https://www.remax.ca/ab/calgary-real-estate?page='\n",
    "urls = [base_url + str(x) for x in range(1,301)]\n",
    "\n",
    "for url in urls:\n",
    "    # Parse HTML with Beautiful Soup\n",
    "    time.sleep(5)\n",
    "    response = requests.get(url)\n",
    "    soup = BeautifulSoup(response.text, 'html.parser')\n",
    "\n",
    "    try:\n",
    "        addresses = soup.find_all('div', class_='left-content flex-one')\n",
    "        for address in addresses:\n",
    "            house_address.append(address.text)\n",
    "    except:\n",
    "        house_address.append('N/A')\n",
    "        \n",
    "    try:\n",
    "        details = soup.find_all('div', class_='property-details')\n",
    "        for detail in details:\n",
    "            house_details.append(detail.text)\n",
    "    except:\n",
    "        house_details.append('N/A')"
   ]
  },
  {
   "cell_type": "code",
   "execution_count": 3,
   "metadata": {},
   "outputs": [
    {
     "data": {
      "text/html": [
       "<div>\n",
       "<style scoped>\n",
       "    .dataframe tbody tr th:only-of-type {\n",
       "        vertical-align: middle;\n",
       "    }\n",
       "\n",
       "    .dataframe tbody tr th {\n",
       "        vertical-align: top;\n",
       "    }\n",
       "\n",
       "    .dataframe thead th {\n",
       "        text-align: right;\n",
       "    }\n",
       "</style>\n",
       "<table border=\"1\" class=\"dataframe\">\n",
       "  <thead>\n",
       "    <tr style=\"text-align: right;\">\n",
       "      <th></th>\n",
       "      <th>2</th>\n",
       "      <th>price</th>\n",
       "    </tr>\n",
       "  </thead>\n",
       "  <tbody>\n",
       "    <tr>\n",
       "      <th>0</th>\n",
       "      <td>9803 ELBOW DR SW, Calgary, AB, T2V 1M4</td>\n",
       "      <td>489900</td>\n",
       "    </tr>\n",
       "    <tr>\n",
       "      <th>1</th>\n",
       "      <td>106 - 790 KINGSMERE CRES SW, Calgary, AB, T2V 2G9</td>\n",
       "      <td>239900</td>\n",
       "    </tr>\n",
       "    <tr>\n",
       "      <th>2</th>\n",
       "      <td>4508 16A ST SW, Calgary, AB, T2T 4L7</td>\n",
       "      <td>789900</td>\n",
       "    </tr>\n",
       "    <tr>\n",
       "      <th>3</th>\n",
       "      <td>230 20 AVE NW, Calgary, AB, T2M 1C2</td>\n",
       "      <td>659900</td>\n",
       "    </tr>\n",
       "    <tr>\n",
       "      <th>4</th>\n",
       "      <td>24 SHAWNEE WAY SW, Calgary, AB, T2Y 2V4</td>\n",
       "      <td>499900</td>\n",
       "    </tr>\n",
       "  </tbody>\n",
       "</table>\n",
       "</div>"
      ],
      "text/plain": [
       "                                                   2   price\n",
       "0             9803 ELBOW DR SW, Calgary, AB, T2V 1M4  489900\n",
       "1  106 - 790 KINGSMERE CRES SW, Calgary, AB, T2V 2G9  239900\n",
       "2               4508 16A ST SW, Calgary, AB, T2T 4L7  789900\n",
       "3                230 20 AVE NW, Calgary, AB, T2M 1C2  659900\n",
       "4            24 SHAWNEE WAY SW, Calgary, AB, T2Y 2V4  499900"
      ]
     },
     "execution_count": 3,
     "metadata": {},
     "output_type": "execute_result"
    }
   ],
   "source": [
    "address_df = pd.DataFrame(house_address)\n",
    "\n",
    "new_df = address_df[0].str.split(' ', 2, expand=True)\n",
    "new_df[\"price\"] = new_df[1].str.replace(\"$\", \"\")\n",
    "new_df[\"price\"] = new_df[\"price\"].str.replace(\",\", \"\")\n",
    "new_df[\"price\"] = pd.to_numeric(new_df[\"price\"])\n",
    "\n",
    "del new_df[0]\n",
    "del new_df[1]\n",
    "new_df.head()"
   ]
  },
  {
   "cell_type": "code",
   "execution_count": 4,
   "metadata": {},
   "outputs": [
    {
     "data": {
      "text/plain": [
       "dtype('int64')"
      ]
     },
     "execution_count": 4,
     "metadata": {},
     "output_type": "execute_result"
    }
   ],
   "source": [
    "new_df[\"price\"].dtype"
   ]
  },
  {
   "cell_type": "code",
   "execution_count": 5,
   "metadata": {},
   "outputs": [
    {
     "data": {
      "text/html": [
       "<div>\n",
       "<style scoped>\n",
       "    .dataframe tbody tr th:only-of-type {\n",
       "        vertical-align: middle;\n",
       "    }\n",
       "\n",
       "    .dataframe tbody tr th {\n",
       "        vertical-align: top;\n",
       "    }\n",
       "\n",
       "    .dataframe thead th {\n",
       "        text-align: right;\n",
       "    }\n",
       "</style>\n",
       "<table border=\"1\" class=\"dataframe\">\n",
       "  <thead>\n",
       "    <tr style=\"text-align: right;\">\n",
       "      <th></th>\n",
       "      <th>0</th>\n",
       "      <th>1</th>\n",
       "    </tr>\n",
       "  </thead>\n",
       "  <tbody>\n",
       "    <tr>\n",
       "      <th>0</th>\n",
       "      <td>9803 ELBOW DR SW</td>\n",
       "      <td>T2V 1M4</td>\n",
       "    </tr>\n",
       "    <tr>\n",
       "      <th>1</th>\n",
       "      <td>106 - 790 KINGSMERE CRES SW</td>\n",
       "      <td>T2V 2G9</td>\n",
       "    </tr>\n",
       "    <tr>\n",
       "      <th>2</th>\n",
       "      <td>4508 16A ST SW</td>\n",
       "      <td>T2T 4L7</td>\n",
       "    </tr>\n",
       "    <tr>\n",
       "      <th>3</th>\n",
       "      <td>230 20 AVE NW</td>\n",
       "      <td>T2M 1C2</td>\n",
       "    </tr>\n",
       "    <tr>\n",
       "      <th>4</th>\n",
       "      <td>24 SHAWNEE WAY SW</td>\n",
       "      <td>T2Y 2V4</td>\n",
       "    </tr>\n",
       "  </tbody>\n",
       "</table>\n",
       "</div>"
      ],
      "text/plain": [
       "                             0        1\n",
       "0             9803 ELBOW DR SW  T2V 1M4\n",
       "1  106 - 790 KINGSMERE CRES SW  T2V 2G9\n",
       "2               4508 16A ST SW  T2T 4L7\n",
       "3                230 20 AVE NW  T2M 1C2\n",
       "4            24 SHAWNEE WAY SW  T2Y 2V4"
      ]
     },
     "execution_count": 5,
     "metadata": {},
     "output_type": "execute_result"
    }
   ],
   "source": [
    "final_df = new_df[2].str.split(', Calgary, AB, ', expand=True)\n",
    "final_df.head()"
   ]
  },
  {
   "cell_type": "code",
   "execution_count": 6,
   "metadata": {},
   "outputs": [
    {
     "data": {
      "text/html": [
       "<div>\n",
       "<style scoped>\n",
       "    .dataframe tbody tr th:only-of-type {\n",
       "        vertical-align: middle;\n",
       "    }\n",
       "\n",
       "    .dataframe tbody tr th {\n",
       "        vertical-align: top;\n",
       "    }\n",
       "\n",
       "    .dataframe thead th {\n",
       "        text-align: right;\n",
       "    }\n",
       "</style>\n",
       "<table border=\"1\" class=\"dataframe\">\n",
       "  <thead>\n",
       "    <tr style=\"text-align: right;\">\n",
       "      <th></th>\n",
       "      <th>price</th>\n",
       "      <th>address</th>\n",
       "      <th>postal_code</th>\n",
       "    </tr>\n",
       "  </thead>\n",
       "  <tbody>\n",
       "    <tr>\n",
       "      <th>0</th>\n",
       "      <td>489900</td>\n",
       "      <td>9803 ELBOW DR SW</td>\n",
       "      <td>T2V 1M4</td>\n",
       "    </tr>\n",
       "    <tr>\n",
       "      <th>1</th>\n",
       "      <td>239900</td>\n",
       "      <td>106 - 790 KINGSMERE CRES SW</td>\n",
       "      <td>T2V 2G9</td>\n",
       "    </tr>\n",
       "    <tr>\n",
       "      <th>2</th>\n",
       "      <td>789900</td>\n",
       "      <td>4508 16A ST SW</td>\n",
       "      <td>T2T 4L7</td>\n",
       "    </tr>\n",
       "    <tr>\n",
       "      <th>3</th>\n",
       "      <td>659900</td>\n",
       "      <td>230 20 AVE NW</td>\n",
       "      <td>T2M 1C2</td>\n",
       "    </tr>\n",
       "    <tr>\n",
       "      <th>4</th>\n",
       "      <td>499900</td>\n",
       "      <td>24 SHAWNEE WAY SW</td>\n",
       "      <td>T2Y 2V4</td>\n",
       "    </tr>\n",
       "  </tbody>\n",
       "</table>\n",
       "</div>"
      ],
      "text/plain": [
       "    price                      address postal_code\n",
       "0  489900             9803 ELBOW DR SW     T2V 1M4\n",
       "1  239900  106 - 790 KINGSMERE CRES SW     T2V 2G9\n",
       "2  789900               4508 16A ST SW     T2T 4L7\n",
       "3  659900                230 20 AVE NW     T2M 1C2\n",
       "4  499900            24 SHAWNEE WAY SW     T2Y 2V4"
      ]
     },
     "execution_count": 6,
     "metadata": {},
     "output_type": "execute_result"
    }
   ],
   "source": [
    "df_add = pd.concat([new_df, final_df], axis=1)\n",
    "del df_add[2]\n",
    "df_add.columns = [\"price\", \"address\", \"postal_code\"]\n",
    "df_add.head()"
   ]
  },
  {
   "cell_type": "code",
   "execution_count": 7,
   "metadata": {},
   "outputs": [
    {
     "data": {
      "text/html": [
       "<div>\n",
       "<style scoped>\n",
       "    .dataframe tbody tr th:only-of-type {\n",
       "        vertical-align: middle;\n",
       "    }\n",
       "\n",
       "    .dataframe tbody tr th {\n",
       "        vertical-align: top;\n",
       "    }\n",
       "\n",
       "    .dataframe thead th {\n",
       "        text-align: right;\n",
       "    }\n",
       "</style>\n",
       "<table border=\"1\" class=\"dataframe\">\n",
       "  <thead>\n",
       "    <tr style=\"text-align: right;\">\n",
       "      <th></th>\n",
       "      <th>bedrooms</th>\n",
       "      <th>bath</th>\n",
       "      <th>property_type</th>\n",
       "    </tr>\n",
       "  </thead>\n",
       "  <tbody>\n",
       "    <tr>\n",
       "      <th>0</th>\n",
       "      <td>4 bed</td>\n",
       "      <td>2 bath</td>\n",
       "      <td>house</td>\n",
       "    </tr>\n",
       "    <tr>\n",
       "      <th>1</th>\n",
       "      <td>2 bed</td>\n",
       "      <td>1 bath</td>\n",
       "      <td>condo</td>\n",
       "    </tr>\n",
       "    <tr>\n",
       "      <th>2</th>\n",
       "      <td>1 bed</td>\n",
       "      <td>1 bath</td>\n",
       "      <td>house</td>\n",
       "    </tr>\n",
       "    <tr>\n",
       "      <th>3</th>\n",
       "      <td>5 bed</td>\n",
       "      <td>3 + 1 bath</td>\n",
       "      <td>house</td>\n",
       "    </tr>\n",
       "    <tr>\n",
       "      <th>4</th>\n",
       "      <td>3 bed</td>\n",
       "      <td>2 bath</td>\n",
       "      <td>house</td>\n",
       "    </tr>\n",
       "  </tbody>\n",
       "</table>\n",
       "</div>"
      ],
      "text/plain": [
       "  bedrooms        bath property_type\n",
       "0    4 bed      2 bath         house\n",
       "1    2 bed      1 bath         condo\n",
       "2    1 bed      1 bath         house\n",
       "3    5 bed  3 + 1 bath         house\n",
       "4    3 bed      2 bath         house"
      ]
     },
     "execution_count": 7,
     "metadata": {},
     "output_type": "execute_result"
    }
   ],
   "source": [
    "details = pd.DataFrame(house_details)\n",
    "\n",
    "details_df = details[0].str.split('|', expand=True)\n",
    "\n",
    "del details_df[2]\n",
    "\n",
    "details_df.columns = [\"bedrooms\", \"bath\", \"property_type\"]\n",
    "details_df.head()"
   ]
  },
  {
   "cell_type": "code",
   "execution_count": 8,
   "metadata": {},
   "outputs": [
    {
     "data": {
      "text/html": [
       "<div>\n",
       "<style scoped>\n",
       "    .dataframe tbody tr th:only-of-type {\n",
       "        vertical-align: middle;\n",
       "    }\n",
       "\n",
       "    .dataframe tbody tr th {\n",
       "        vertical-align: top;\n",
       "    }\n",
       "\n",
       "    .dataframe thead th {\n",
       "        text-align: right;\n",
       "    }\n",
       "</style>\n",
       "<table border=\"1\" class=\"dataframe\">\n",
       "  <thead>\n",
       "    <tr style=\"text-align: right;\">\n",
       "      <th></th>\n",
       "      <th>price</th>\n",
       "      <th>address</th>\n",
       "      <th>postal_code</th>\n",
       "      <th>bedrooms</th>\n",
       "      <th>bath</th>\n",
       "      <th>property_type</th>\n",
       "    </tr>\n",
       "  </thead>\n",
       "  <tbody>\n",
       "    <tr>\n",
       "      <th>0</th>\n",
       "      <td>489900</td>\n",
       "      <td>9803 ELBOW DR SW</td>\n",
       "      <td>T2V 1M4</td>\n",
       "      <td>4 bed</td>\n",
       "      <td>2 bath</td>\n",
       "      <td>house</td>\n",
       "    </tr>\n",
       "    <tr>\n",
       "      <th>1</th>\n",
       "      <td>239900</td>\n",
       "      <td>106 - 790 KINGSMERE CRES SW</td>\n",
       "      <td>T2V 2G9</td>\n",
       "      <td>2 bed</td>\n",
       "      <td>1 bath</td>\n",
       "      <td>condo</td>\n",
       "    </tr>\n",
       "    <tr>\n",
       "      <th>2</th>\n",
       "      <td>789900</td>\n",
       "      <td>4508 16A ST SW</td>\n",
       "      <td>T2T 4L7</td>\n",
       "      <td>1 bed</td>\n",
       "      <td>1 bath</td>\n",
       "      <td>house</td>\n",
       "    </tr>\n",
       "    <tr>\n",
       "      <th>3</th>\n",
       "      <td>659900</td>\n",
       "      <td>230 20 AVE NW</td>\n",
       "      <td>T2M 1C2</td>\n",
       "      <td>5 bed</td>\n",
       "      <td>3 + 1 bath</td>\n",
       "      <td>house</td>\n",
       "    </tr>\n",
       "    <tr>\n",
       "      <th>4</th>\n",
       "      <td>499900</td>\n",
       "      <td>24 SHAWNEE WAY SW</td>\n",
       "      <td>T2Y 2V4</td>\n",
       "      <td>3 bed</td>\n",
       "      <td>2 bath</td>\n",
       "      <td>house</td>\n",
       "    </tr>\n",
       "  </tbody>\n",
       "</table>\n",
       "</div>"
      ],
      "text/plain": [
       "    price                      address postal_code bedrooms        bath  \\\n",
       "0  489900             9803 ELBOW DR SW     T2V 1M4    4 bed      2 bath   \n",
       "1  239900  106 - 790 KINGSMERE CRES SW     T2V 2G9    2 bed      1 bath   \n",
       "2  789900               4508 16A ST SW     T2T 4L7    1 bed      1 bath   \n",
       "3  659900                230 20 AVE NW     T2M 1C2    5 bed  3 + 1 bath   \n",
       "4  499900            24 SHAWNEE WAY SW     T2Y 2V4    3 bed      2 bath   \n",
       "\n",
       "  property_type  \n",
       "0         house  \n",
       "1         condo  \n",
       "2         house  \n",
       "3         house  \n",
       "4         house  "
      ]
     },
     "execution_count": 8,
     "metadata": {},
     "output_type": "execute_result"
    }
   ],
   "source": [
    "calgary_df_dup = pd.concat([df_add, details_df], axis=1)\n",
    "calgary_df = calgary_df_dup.drop_duplicates()\n",
    "calgary_df.head()"
   ]
  },
  {
   "cell_type": "code",
   "execution_count": 9,
   "metadata": {},
   "outputs": [],
   "source": [
    "calgary_df.to_csv('calgary_df.csv', index=False)"
   ]
  },
  {
   "cell_type": "markdown",
   "metadata": {},
   "source": [
    "----------------"
   ]
  },
  {
   "cell_type": "markdown",
   "metadata": {},
   "source": [
    "### Walk Score"
   ]
  },
  {
   "cell_type": "code",
   "execution_count": 10,
   "metadata": {
    "scrolled": true
   },
   "outputs": [
    {
     "data": {
      "text/html": [
       "<div>\n",
       "<style scoped>\n",
       "    .dataframe tbody tr th:only-of-type {\n",
       "        vertical-align: middle;\n",
       "    }\n",
       "\n",
       "    .dataframe tbody tr th {\n",
       "        vertical-align: top;\n",
       "    }\n",
       "\n",
       "    .dataframe thead th {\n",
       "        text-align: right;\n",
       "    }\n",
       "</style>\n",
       "<table border=\"1\" class=\"dataframe\">\n",
       "  <thead>\n",
       "    <tr style=\"text-align: right;\">\n",
       "      <th></th>\n",
       "      <th>price</th>\n",
       "      <th>address</th>\n",
       "      <th>postal_code</th>\n",
       "      <th>bedrooms</th>\n",
       "      <th>bath</th>\n",
       "      <th>property_type</th>\n",
       "    </tr>\n",
       "  </thead>\n",
       "  <tbody>\n",
       "    <tr>\n",
       "      <th>0</th>\n",
       "      <td>489900</td>\n",
       "      <td>9803 ELBOW DR SW</td>\n",
       "      <td>T2V 1M4</td>\n",
       "      <td>4 bed</td>\n",
       "      <td>2 bath</td>\n",
       "      <td>house</td>\n",
       "    </tr>\n",
       "    <tr>\n",
       "      <th>1</th>\n",
       "      <td>239900</td>\n",
       "      <td>106 - 790 KINGSMERE CRES SW</td>\n",
       "      <td>T2V 2G9</td>\n",
       "      <td>2 bed</td>\n",
       "      <td>1 bath</td>\n",
       "      <td>condo</td>\n",
       "    </tr>\n",
       "    <tr>\n",
       "      <th>2</th>\n",
       "      <td>789900</td>\n",
       "      <td>4508 16A ST SW</td>\n",
       "      <td>T2T 4L7</td>\n",
       "      <td>1 bed</td>\n",
       "      <td>1 bath</td>\n",
       "      <td>house</td>\n",
       "    </tr>\n",
       "    <tr>\n",
       "      <th>3</th>\n",
       "      <td>659900</td>\n",
       "      <td>230 20 AVE NW</td>\n",
       "      <td>T2M 1C2</td>\n",
       "      <td>5 bed</td>\n",
       "      <td>3 + 1 bath</td>\n",
       "      <td>house</td>\n",
       "    </tr>\n",
       "    <tr>\n",
       "      <th>4</th>\n",
       "      <td>499900</td>\n",
       "      <td>24 SHAWNEE WAY SW</td>\n",
       "      <td>T2Y 2V4</td>\n",
       "      <td>3 bed</td>\n",
       "      <td>2 bath</td>\n",
       "      <td>house</td>\n",
       "    </tr>\n",
       "  </tbody>\n",
       "</table>\n",
       "</div>"
      ],
      "text/plain": [
       "    price                      address postal_code bedrooms        bath  \\\n",
       "0  489900             9803 ELBOW DR SW     T2V 1M4    4 bed      2 bath   \n",
       "1  239900  106 - 790 KINGSMERE CRES SW     T2V 2G9    2 bed      1 bath   \n",
       "2  789900               4508 16A ST SW     T2T 4L7    1 bed      1 bath   \n",
       "3  659900                230 20 AVE NW     T2M 1C2    5 bed  3 + 1 bath   \n",
       "4  499900            24 SHAWNEE WAY SW     T2Y 2V4    3 bed      2 bath   \n",
       "\n",
       "  property_type  \n",
       "0         house  \n",
       "1         condo  \n",
       "2         house  \n",
       "3         house  \n",
       "4         house  "
      ]
     },
     "execution_count": 10,
     "metadata": {},
     "output_type": "execute_result"
    }
   ],
   "source": [
    "calgary_df = pd.read_csv('calgary_df.csv')\n",
    "calgary_df.head()"
   ]
  },
  {
   "cell_type": "code",
   "execution_count": 11,
   "metadata": {},
   "outputs": [],
   "source": [
    "post_code_list = []\n",
    "\n",
    "for i in calgary_df[\"postal_code\"]:\n",
    "    post_code_list.append(i)"
   ]
  },
  {
   "cell_type": "code",
   "execution_count": 12,
   "metadata": {},
   "outputs": [],
   "source": [
    "scores_walk = []\n",
    "scores_bike = []\n",
    "scores_transit = []\n",
    "\n",
    "for i in post_code_list:\n",
    "\n",
    "    try:\n",
    "        postal_code = i.replace(\" \", \"%20\")\n",
    "        url_score = \"https://www.walkscore.com/score/\" + str(postal_code)\n",
    "        time.sleep(5)\n",
    "\n",
    "        # Parse HTML with Beautiful Soup\n",
    "        response = requests.get(url_score)\n",
    "        code_soup = BeautifulSoup(response.text, 'html.parser')\n",
    "\n",
    "        if 'pp.walk.sc/badge/walk/score' in str(code_soup):\n",
    "            ws = str(code_soup).split('pp.walk.sc/badge/walk/score/')[1][:2].replace('.','')\n",
    "            scores_walk.append(ws)\n",
    "        else:\n",
    "            ws = 'N/A'\n",
    "            scores_walk.append(ws)\n",
    "        if 'pp.walk.sc/badge/bike/score' in str(code_soup):\n",
    "            bs = str(code_soup).split('pp.walk.sc/badge/bike/score/')[1][:2].replace('.','')\n",
    "            scores_bike.append(bs)\n",
    "        else:\n",
    "            bs = 'N/A'\n",
    "            scores_bike.append(bs)\n",
    "        if 'pp.walk.sc/badge/transit/score' in str(code_soup):\n",
    "            ts = str(code_soup).split('pp.walk.sc/badge/transit/score/')[1][:2].replace('.','')\n",
    "            scores_transit.append(ts)\n",
    "        else:\n",
    "            ts = 'N/A'\n",
    "            scores_transit.append(ts)\n",
    "    except:\n",
    "        ws = 'N/A'\n",
    "        scores_walk.append(ws)\n",
    "        bs = 'N/A'\n",
    "        scores_bike.append(bs)\n",
    "        ts = 'N/A'\n",
    "        scores_transit.append(ts)"
   ]
  },
  {
   "cell_type": "code",
   "execution_count": 14,
   "metadata": {},
   "outputs": [
    {
     "data": {
      "text/html": [
       "<div>\n",
       "<style scoped>\n",
       "    .dataframe tbody tr th:only-of-type {\n",
       "        vertical-align: middle;\n",
       "    }\n",
       "\n",
       "    .dataframe tbody tr th {\n",
       "        vertical-align: top;\n",
       "    }\n",
       "\n",
       "    .dataframe thead th {\n",
       "        text-align: right;\n",
       "    }\n",
       "</style>\n",
       "<table border=\"1\" class=\"dataframe\">\n",
       "  <thead>\n",
       "    <tr style=\"text-align: right;\">\n",
       "      <th></th>\n",
       "      <th>postal_code</th>\n",
       "      <th>walk_score</th>\n",
       "      <th>bike_score</th>\n",
       "      <th>transit_score</th>\n",
       "    </tr>\n",
       "  </thead>\n",
       "  <tbody>\n",
       "    <tr>\n",
       "      <th>0</th>\n",
       "      <td>T2V 1M4</td>\n",
       "      <td>58</td>\n",
       "      <td>61</td>\n",
       "      <td>55</td>\n",
       "    </tr>\n",
       "    <tr>\n",
       "      <th>1</th>\n",
       "      <td>T2V 2G9</td>\n",
       "      <td>57</td>\n",
       "      <td>75</td>\n",
       "      <td>57</td>\n",
       "    </tr>\n",
       "    <tr>\n",
       "      <th>2</th>\n",
       "      <td>T2T 4L7</td>\n",
       "      <td>38</td>\n",
       "      <td>82</td>\n",
       "      <td>38</td>\n",
       "    </tr>\n",
       "    <tr>\n",
       "      <th>3</th>\n",
       "      <td>T2M 1C2</td>\n",
       "      <td>77</td>\n",
       "      <td>86</td>\n",
       "      <td>56</td>\n",
       "    </tr>\n",
       "    <tr>\n",
       "      <th>4</th>\n",
       "      <td>T2Y 2V4</td>\n",
       "      <td>19</td>\n",
       "      <td>60</td>\n",
       "      <td>45</td>\n",
       "    </tr>\n",
       "  </tbody>\n",
       "</table>\n",
       "</div>"
      ],
      "text/plain": [
       "  postal_code walk_score bike_score transit_score\n",
       "0     T2V 1M4         58         61            55\n",
       "1     T2V 2G9         57         75            57\n",
       "2     T2T 4L7         38         82            38\n",
       "3     T2M 1C2         77         86            56\n",
       "4     T2Y 2V4         19         60            45"
      ]
     },
     "execution_count": 14,
     "metadata": {},
     "output_type": "execute_result"
    }
   ],
   "source": [
    "score_df_trans = {'postal_code':post_code_list, \n",
    "                  'walk_score':scores_walk, \n",
    "                  'bike_score':scores_bike, \n",
    "                  'transit_score':scores_transit}\n",
    "score_df_dup = pd.DataFrame(score_df_trans)\n",
    "score_df = score_df_dup.drop_duplicates()\n",
    "score_df.head()"
   ]
  },
  {
   "cell_type": "code",
   "execution_count": 15,
   "metadata": {},
   "outputs": [],
   "source": [
    "score_df.to_csv('score_df.csv', index=False)"
   ]
  },
  {
   "cell_type": "markdown",
   "metadata": {},
   "source": [
    "-------------------"
   ]
  },
  {
   "cell_type": "markdown",
   "metadata": {},
   "source": [
    "### SQL"
   ]
  },
  {
   "cell_type": "code",
   "execution_count": 16,
   "metadata": {},
   "outputs": [],
   "source": [
    "calgary_df = pd.read_csv('calgary_df.csv')\n",
    "score_df = pd.read_csv('score_df.csv')"
   ]
  },
  {
   "cell_type": "code",
   "execution_count": 17,
   "metadata": {},
   "outputs": [],
   "source": [
    "rds_connection_string = \"postgres:1@localhost:5432/realestate_db\"\n",
    "engine = create_engine(f'postgresql://{rds_connection_string}')\n",
    "\n",
    "calgary_df.to_sql(name= \"calgary_df\", con=engine, if_exists=\"replace\", index=False)\n",
    "score_df.to_sql(name= \"score_df\", con=engine, if_exists=\"replace\", index=False)"
   ]
  },
  {
   "cell_type": "code",
   "execution_count": 18,
   "metadata": {},
   "outputs": [],
   "source": [
    "import pymongo\n",
    "from pymongo import MongoClient"
   ]
  },
  {
   "cell_type": "code",
   "execution_count": 19,
   "metadata": {},
   "outputs": [],
   "source": [
    "calgary_df_html = calgary_df.to_html()\n",
    "score_df_html = score_df.to_html()"
   ]
  },
  {
   "cell_type": "markdown",
   "metadata": {},
   "source": [
    "### MongoDB"
   ]
  },
  {
   "cell_type": "code",
   "execution_count": 20,
   "metadata": {},
   "outputs": [
    {
     "data": {
      "text/plain": [
       "<pymongo.results.InsertManyResult at 0x2957256a908>"
      ]
     },
     "execution_count": 20,
     "metadata": {},
     "output_type": "execute_result"
    }
   ],
   "source": [
    "conn = 'mongodb://localhost:27017'\n",
    "# Making a Connection with MongoClient\n",
    "client = MongoClient(conn)\n",
    "# database\n",
    "db = client.realestate_db\n",
    "\n",
    "collection = db.calgary_df_html\n",
    "calgary_dict = calgary_df.to_dict('records')\n",
    "collection.insert_many(calgary_dict)\n",
    "\n",
    "collection = db.score_df_html\n",
    "score_dict = score_df.to_dict('records')\n",
    "collection.insert_many(score_dict)"
   ]
  },
  {
   "cell_type": "code",
   "execution_count": null,
   "metadata": {},
   "outputs": [],
   "source": []
  }
 ],
 "metadata": {
  "kernelspec": {
   "display_name": "Python 3",
   "language": "python",
   "name": "python3"
  },
  "language_info": {
   "codemirror_mode": {
    "name": "ipython",
    "version": 3
   },
   "file_extension": ".py",
   "mimetype": "text/x-python",
   "name": "python",
   "nbconvert_exporter": "python",
   "pygments_lexer": "ipython3",
   "version": "3.7.6"
  }
 },
 "nbformat": 4,
 "nbformat_minor": 2
}
