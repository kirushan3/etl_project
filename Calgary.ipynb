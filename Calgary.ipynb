{
 "cells": [
  {
   "cell_type": "code",
   "execution_count": 1,
   "metadata": {},
   "outputs": [],
   "source": [
    "import pandas as pd\n",
    "import numpy as np\n",
    "import requests\n",
    "from bs4 import BeautifulSoup\n",
    "import time\n",
    "from splinter import Browser\n",
    "import warnings\n",
    "warnings.filterwarnings('ignore')"
   ]
  },
  {
   "cell_type": "markdown",
   "metadata": {},
   "source": [
    "#pointing to the directory where chromedriver exists\n",
    "executable_path = {'executable_path': '/usr/local/bin/chromedriver'}\n",
    "browser = Browser(\"chrome\", **executable_path, headless = False)"
   ]
  },
  {
   "cell_type": "code",
   "execution_count": 3,
   "metadata": {},
   "outputs": [
    {
     "name": "stdout",
     "output_type": "stream",
     "text": [
      "Please enter the abbreviation of your province: ab\n",
      "Please enter city: calgary\n",
      "https://www.remax.ca/ab/calgary-real-estate\n"
     ]
    }
   ],
   "source": [
    "#url = 'https://www.remax.ca/ab/calgary-real-estate'\n",
    "province_abb = input(\"Please enter the abbreviation of your province: \")\n",
    "province_name = province_abb.lower()\n",
    "city_name_input = input(\"Please enter city: \")\n",
    "city_name = city_name_input.lower()\n",
    "base_url = f'https://www.remax.ca/{province_name}/{city_name}-real-estate'\n",
    "print(base_url)"
   ]
  },
  {
   "cell_type": "code",
   "execution_count": 4,
   "metadata": {},
   "outputs": [],
   "source": [
    "house_address = []\n",
    "house_details = []\n",
    "\n",
    "\n",
    "base_url = f'https://www.remax.ca/{province_name}/{city_name}-real-estate?page='\n",
    "urls = [base_url + str(x) for x in range(1,2)]\n",
    "\n",
    "\n",
    "for url in urls:\n",
    "    \n",
    "    #browser.visit(url)\n",
    "    time.sleep(5)\n",
    "    \n",
    "    # HTML Object\n",
    "    #html = browser.html\n",
    "\n",
    "    # Parse HTML with Beautiful Soup\n",
    "    response = requests.get(url)\n",
    "    soup = BeautifulSoup(response.text, 'html.parser')\n",
    "\n",
    "    addresses = soup.find_all('div', class_='left-content flex-one')\n",
    "    for address in addresses:\n",
    "        house_address.append(address.text)\n",
    "        \n",
    "    details = soup.find_all('div', class_='property-details')\n",
    "    for detail in details:\n",
    "        house_details.append(detail.text)\n",
    "#print(soup)\n",
    "  "
   ]
  },
  {
   "cell_type": "code",
   "execution_count": 13,
   "metadata": {},
   "outputs": [],
   "source": [
    "#house_address\n",
    "#house_details"
   ]
  },
  {
   "cell_type": "code",
   "execution_count": 5,
   "metadata": {},
   "outputs": [
    {
     "data": {
      "text/html": [
       "<div>\n",
       "<style scoped>\n",
       "    .dataframe tbody tr th:only-of-type {\n",
       "        vertical-align: middle;\n",
       "    }\n",
       "\n",
       "    .dataframe tbody tr th {\n",
       "        vertical-align: top;\n",
       "    }\n",
       "\n",
       "    .dataframe thead th {\n",
       "        text-align: right;\n",
       "    }\n",
       "</style>\n",
       "<table border=\"1\" class=\"dataframe\">\n",
       "  <thead>\n",
       "    <tr style=\"text-align: right;\">\n",
       "      <th></th>\n",
       "      <th>1</th>\n",
       "      <th>2</th>\n",
       "    </tr>\n",
       "  </thead>\n",
       "  <tbody>\n",
       "    <tr>\n",
       "      <th>0</th>\n",
       "      <td>$489,000</td>\n",
       "      <td>140 CITADEL CREST CIR NW, Calgary, AB, T3G 4G3</td>\n",
       "    </tr>\n",
       "    <tr>\n",
       "      <th>1</th>\n",
       "      <td>$351,999</td>\n",
       "      <td>79 GALBRAITH DR SW, Calgary, AB, T3E 4Z5</td>\n",
       "    </tr>\n",
       "    <tr>\n",
       "      <th>2</th>\n",
       "      <td>$449,999</td>\n",
       "      <td>275 TARAVISTA ST NE, Calgary, AB, T3J 4S5</td>\n",
       "    </tr>\n",
       "    <tr>\n",
       "      <th>3</th>\n",
       "      <td>$469,900</td>\n",
       "      <td>25 DOUGLASBANK RISE SE, Calgary, AB, T2Z 2C5</td>\n",
       "    </tr>\n",
       "    <tr>\n",
       "      <th>4</th>\n",
       "      <td>$419,900</td>\n",
       "      <td>111 PANORAMA HILLS PL NW, Calgary, AB, T3K 4R9</td>\n",
       "    </tr>\n",
       "  </tbody>\n",
       "</table>\n",
       "</div>"
      ],
      "text/plain": [
       "          1                                               2\n",
       "0  $489,000  140 CITADEL CREST CIR NW, Calgary, AB, T3G 4G3\n",
       "1  $351,999        79 GALBRAITH DR SW, Calgary, AB, T3E 4Z5\n",
       "2  $449,999       275 TARAVISTA ST NE, Calgary, AB, T3J 4S5\n",
       "3  $469,900    25 DOUGLASBANK RISE SE, Calgary, AB, T2Z 2C5\n",
       "4  $419,900  111 PANORAMA HILLS PL NW, Calgary, AB, T3K 4R9"
      ]
     },
     "execution_count": 5,
     "metadata": {},
     "output_type": "execute_result"
    }
   ],
   "source": [
    "address_df = pd.DataFrame(house_address)\n",
    "\n",
    "new_df = address_df[0].str.split(' ', 2, expand=True)\n",
    "\n",
    "del new_df[0]\n",
    "new_df.head()"
   ]
  },
  {
   "cell_type": "code",
   "execution_count": 6,
   "metadata": {},
   "outputs": [
    {
     "data": {
      "text/html": [
       "<div>\n",
       "<style scoped>\n",
       "    .dataframe tbody tr th:only-of-type {\n",
       "        vertical-align: middle;\n",
       "    }\n",
       "\n",
       "    .dataframe tbody tr th {\n",
       "        vertical-align: top;\n",
       "    }\n",
       "\n",
       "    .dataframe thead th {\n",
       "        text-align: right;\n",
       "    }\n",
       "</style>\n",
       "<table border=\"1\" class=\"dataframe\">\n",
       "  <thead>\n",
       "    <tr style=\"text-align: right;\">\n",
       "      <th></th>\n",
       "      <th>0</th>\n",
       "      <th>1</th>\n",
       "    </tr>\n",
       "  </thead>\n",
       "  <tbody>\n",
       "    <tr>\n",
       "      <th>0</th>\n",
       "      <td>140 CITADEL CREST CIR NW</td>\n",
       "      <td>T3G 4G3</td>\n",
       "    </tr>\n",
       "    <tr>\n",
       "      <th>1</th>\n",
       "      <td>79 GALBRAITH DR SW</td>\n",
       "      <td>T3E 4Z5</td>\n",
       "    </tr>\n",
       "    <tr>\n",
       "      <th>2</th>\n",
       "      <td>275 TARAVISTA ST NE</td>\n",
       "      <td>T3J 4S5</td>\n",
       "    </tr>\n",
       "    <tr>\n",
       "      <th>3</th>\n",
       "      <td>25 DOUGLASBANK RISE SE</td>\n",
       "      <td>T2Z 2C5</td>\n",
       "    </tr>\n",
       "    <tr>\n",
       "      <th>4</th>\n",
       "      <td>111 PANORAMA HILLS PL NW</td>\n",
       "      <td>T3K 4R9</td>\n",
       "    </tr>\n",
       "  </tbody>\n",
       "</table>\n",
       "</div>"
      ],
      "text/plain": [
       "                          0        1\n",
       "0  140 CITADEL CREST CIR NW  T3G 4G3\n",
       "1        79 GALBRAITH DR SW  T3E 4Z5\n",
       "2       275 TARAVISTA ST NE  T3J 4S5\n",
       "3    25 DOUGLASBANK RISE SE  T2Z 2C5\n",
       "4  111 PANORAMA HILLS PL NW  T3K 4R9"
      ]
     },
     "execution_count": 6,
     "metadata": {},
     "output_type": "execute_result"
    }
   ],
   "source": [
    "final_df = new_df[2].str.split(', Calgary, AB, ', expand=True)\n",
    "# final_df = new_df[2].str.split(', Toronto, ON, ', expand=True)\n",
    "final_df.head()"
   ]
  },
  {
   "cell_type": "code",
   "execution_count": 7,
   "metadata": {},
   "outputs": [
    {
     "data": {
      "text/html": [
       "<div>\n",
       "<style scoped>\n",
       "    .dataframe tbody tr th:only-of-type {\n",
       "        vertical-align: middle;\n",
       "    }\n",
       "\n",
       "    .dataframe tbody tr th {\n",
       "        vertical-align: top;\n",
       "    }\n",
       "\n",
       "    .dataframe thead th {\n",
       "        text-align: right;\n",
       "    }\n",
       "</style>\n",
       "<table border=\"1\" class=\"dataframe\">\n",
       "  <thead>\n",
       "    <tr style=\"text-align: right;\">\n",
       "      <th></th>\n",
       "      <th>price</th>\n",
       "      <th>address</th>\n",
       "      <th>postal_code</th>\n",
       "    </tr>\n",
       "  </thead>\n",
       "  <tbody>\n",
       "    <tr>\n",
       "      <th>0</th>\n",
       "      <td>$489,000</td>\n",
       "      <td>140 CITADEL CREST CIR NW</td>\n",
       "      <td>T3G 4G3</td>\n",
       "    </tr>\n",
       "    <tr>\n",
       "      <th>1</th>\n",
       "      <td>$351,999</td>\n",
       "      <td>79 GALBRAITH DR SW</td>\n",
       "      <td>T3E 4Z5</td>\n",
       "    </tr>\n",
       "    <tr>\n",
       "      <th>2</th>\n",
       "      <td>$449,999</td>\n",
       "      <td>275 TARAVISTA ST NE</td>\n",
       "      <td>T3J 4S5</td>\n",
       "    </tr>\n",
       "    <tr>\n",
       "      <th>3</th>\n",
       "      <td>$469,900</td>\n",
       "      <td>25 DOUGLASBANK RISE SE</td>\n",
       "      <td>T2Z 2C5</td>\n",
       "    </tr>\n",
       "    <tr>\n",
       "      <th>4</th>\n",
       "      <td>$419,900</td>\n",
       "      <td>111 PANORAMA HILLS PL NW</td>\n",
       "      <td>T3K 4R9</td>\n",
       "    </tr>\n",
       "    <tr>\n",
       "      <th>5</th>\n",
       "      <td>$725,000</td>\n",
       "      <td>3702 21 AVE SW</td>\n",
       "      <td>T3E 7Z1</td>\n",
       "    </tr>\n",
       "    <tr>\n",
       "      <th>6</th>\n",
       "      <td>$660,000</td>\n",
       "      <td>88 COUGARSTONE MANOR SW</td>\n",
       "      <td>T3H 5N5</td>\n",
       "    </tr>\n",
       "    <tr>\n",
       "      <th>7</th>\n",
       "      <td>$839,900</td>\n",
       "      <td>19 WESTRIDGE CRES SW</td>\n",
       "      <td>T3H 5C9</td>\n",
       "    </tr>\n",
       "    <tr>\n",
       "      <th>8</th>\n",
       "      <td>$360,000</td>\n",
       "      <td>135 COVEWOOD CLOSE NE</td>\n",
       "      <td>T3K 4Z8</td>\n",
       "    </tr>\n",
       "    <tr>\n",
       "      <th>9</th>\n",
       "      <td>$799,900</td>\n",
       "      <td>5620 LODGE CRES SW</td>\n",
       "      <td>T3E 5Y7</td>\n",
       "    </tr>\n",
       "    <tr>\n",
       "      <th>10</th>\n",
       "      <td>$319,900</td>\n",
       "      <td>139 APPLETREE CLOSE SE</td>\n",
       "      <td>T2A 7K1</td>\n",
       "    </tr>\n",
       "    <tr>\n",
       "      <th>11</th>\n",
       "      <td>$479,000</td>\n",
       "      <td>188 RIVERBEND DR SE</td>\n",
       "      <td>T2C 3X8</td>\n",
       "    </tr>\n",
       "    <tr>\n",
       "      <th>12</th>\n",
       "      <td>$270,000</td>\n",
       "      <td>1111 6 Avenue SW</td>\n",
       "      <td>T2P 5M5</td>\n",
       "    </tr>\n",
       "    <tr>\n",
       "      <th>13</th>\n",
       "      <td>$419,900</td>\n",
       "      <td>301 COVEWOOD CIR NE</td>\n",
       "      <td>T3K 5S8</td>\n",
       "    </tr>\n",
       "    <tr>\n",
       "      <th>14</th>\n",
       "      <td>$679,900</td>\n",
       "      <td>145 ELGIN ESTATES PK SE</td>\n",
       "      <td>T2Z 0B8</td>\n",
       "    </tr>\n",
       "    <tr>\n",
       "      <th>15</th>\n",
       "      <td>$299,000</td>\n",
       "      <td>1603 - 135 13 AVE SW</td>\n",
       "      <td>T2R 0W8</td>\n",
       "    </tr>\n",
       "    <tr>\n",
       "      <th>16</th>\n",
       "      <td>$674,999</td>\n",
       "      <td>106 CRANFORD GREEN SE</td>\n",
       "      <td>T3M 1V2</td>\n",
       "    </tr>\n",
       "    <tr>\n",
       "      <th>17</th>\n",
       "      <td>$629,900</td>\n",
       "      <td>43 SPRING MEWS SW</td>\n",
       "      <td>T3H 3V2</td>\n",
       "    </tr>\n",
       "    <tr>\n",
       "      <th>18</th>\n",
       "      <td>$655,000</td>\n",
       "      <td>113 TREMBLANT WAY SW</td>\n",
       "      <td>T3H 0A7</td>\n",
       "    </tr>\n",
       "    <tr>\n",
       "      <th>19</th>\n",
       "      <td>$299,900</td>\n",
       "      <td>1007 - 1140 15 AVE SW</td>\n",
       "      <td>T2R 1K6</td>\n",
       "    </tr>\n",
       "  </tbody>\n",
       "</table>\n",
       "</div>"
      ],
      "text/plain": [
       "       price                   address postal_code\n",
       "0   $489,000  140 CITADEL CREST CIR NW     T3G 4G3\n",
       "1   $351,999        79 GALBRAITH DR SW     T3E 4Z5\n",
       "2   $449,999       275 TARAVISTA ST NE     T3J 4S5\n",
       "3   $469,900    25 DOUGLASBANK RISE SE     T2Z 2C5\n",
       "4   $419,900  111 PANORAMA HILLS PL NW     T3K 4R9\n",
       "5   $725,000            3702 21 AVE SW     T3E 7Z1\n",
       "6   $660,000   88 COUGARSTONE MANOR SW     T3H 5N5\n",
       "7   $839,900      19 WESTRIDGE CRES SW     T3H 5C9\n",
       "8   $360,000     135 COVEWOOD CLOSE NE     T3K 4Z8\n",
       "9   $799,900        5620 LODGE CRES SW     T3E 5Y7\n",
       "10  $319,900    139 APPLETREE CLOSE SE     T2A 7K1\n",
       "11  $479,000       188 RIVERBEND DR SE     T2C 3X8\n",
       "12  $270,000          1111 6 Avenue SW     T2P 5M5\n",
       "13  $419,900       301 COVEWOOD CIR NE     T3K 5S8\n",
       "14  $679,900   145 ELGIN ESTATES PK SE     T2Z 0B8\n",
       "15  $299,000      1603 - 135 13 AVE SW     T2R 0W8\n",
       "16  $674,999     106 CRANFORD GREEN SE     T3M 1V2\n",
       "17  $629,900         43 SPRING MEWS SW     T3H 3V2\n",
       "18  $655,000      113 TREMBLANT WAY SW     T3H 0A7\n",
       "19  $299,900     1007 - 1140 15 AVE SW     T2R 1K6"
      ]
     },
     "execution_count": 7,
     "metadata": {},
     "output_type": "execute_result"
    }
   ],
   "source": [
    "df_add = pd.concat([new_df, final_df], axis=1)\n",
    "del df_add[2]\n",
    "df_add.columns = [\"price\", \"address\", \"postal_code\"]\n",
    "df_add.head(20)"
   ]
  },
  {
   "cell_type": "code",
   "execution_count": 8,
   "metadata": {
    "scrolled": true
   },
   "outputs": [
    {
     "data": {
      "text/html": [
       "<div>\n",
       "<style scoped>\n",
       "    .dataframe tbody tr th:only-of-type {\n",
       "        vertical-align: middle;\n",
       "    }\n",
       "\n",
       "    .dataframe tbody tr th {\n",
       "        vertical-align: top;\n",
       "    }\n",
       "\n",
       "    .dataframe thead th {\n",
       "        text-align: right;\n",
       "    }\n",
       "</style>\n",
       "<table border=\"1\" class=\"dataframe\">\n",
       "  <thead>\n",
       "    <tr style=\"text-align: right;\">\n",
       "      <th></th>\n",
       "      <th>bedrooms</th>\n",
       "      <th>bath</th>\n",
       "      <th>property_type</th>\n",
       "    </tr>\n",
       "  </thead>\n",
       "  <tbody>\n",
       "    <tr>\n",
       "      <th>0</th>\n",
       "      <td>3 bed</td>\n",
       "      <td>2 + 1 bath</td>\n",
       "      <td>house</td>\n",
       "    </tr>\n",
       "    <tr>\n",
       "      <th>1</th>\n",
       "      <td>N/A bed</td>\n",
       "      <td>N/A bath</td>\n",
       "      <td>house</td>\n",
       "    </tr>\n",
       "    <tr>\n",
       "      <th>2</th>\n",
       "      <td>5 bed</td>\n",
       "      <td>2 + 1 bath</td>\n",
       "      <td>house</td>\n",
       "    </tr>\n",
       "    <tr>\n",
       "      <th>3</th>\n",
       "      <td>4 bed</td>\n",
       "      <td>2 + 1 bath</td>\n",
       "      <td>house</td>\n",
       "    </tr>\n",
       "    <tr>\n",
       "      <th>4</th>\n",
       "      <td>3 bed</td>\n",
       "      <td>2 bath</td>\n",
       "      <td>house</td>\n",
       "    </tr>\n",
       "  </tbody>\n",
       "</table>\n",
       "</div>"
      ],
      "text/plain": [
       "  bedrooms        bath property_type\n",
       "0    3 bed  2 + 1 bath         house\n",
       "1  N/A bed    N/A bath         house\n",
       "2    5 bed  2 + 1 bath         house\n",
       "3    4 bed  2 + 1 bath         house\n",
       "4    3 bed      2 bath         house"
      ]
     },
     "execution_count": 8,
     "metadata": {},
     "output_type": "execute_result"
    }
   ],
   "source": [
    "details = pd.DataFrame(house_details)\n",
    "\n",
    "details_df = details[0].str.split('|', expand=True)\n",
    "details_df\n",
    "\n",
    "del details_df[2]\n",
    "\n",
    "details_df.columns = [\"bedrooms\", \"bath\", \"property_type\"]\n",
    "details_df.head()"
   ]
  },
  {
   "cell_type": "code",
   "execution_count": 9,
   "metadata": {},
   "outputs": [
    {
     "data": {
      "text/html": [
       "<div>\n",
       "<style scoped>\n",
       "    .dataframe tbody tr th:only-of-type {\n",
       "        vertical-align: middle;\n",
       "    }\n",
       "\n",
       "    .dataframe tbody tr th {\n",
       "        vertical-align: top;\n",
       "    }\n",
       "\n",
       "    .dataframe thead th {\n",
       "        text-align: right;\n",
       "    }\n",
       "</style>\n",
       "<table border=\"1\" class=\"dataframe\">\n",
       "  <thead>\n",
       "    <tr style=\"text-align: right;\">\n",
       "      <th></th>\n",
       "      <th>price</th>\n",
       "      <th>address</th>\n",
       "      <th>postal_code</th>\n",
       "      <th>bedrooms</th>\n",
       "      <th>bath</th>\n",
       "      <th>property_type</th>\n",
       "    </tr>\n",
       "  </thead>\n",
       "  <tbody>\n",
       "    <tr>\n",
       "      <th>0</th>\n",
       "      <td>$489,000</td>\n",
       "      <td>140 CITADEL CREST CIR NW</td>\n",
       "      <td>T3G 4G3</td>\n",
       "      <td>3 bed</td>\n",
       "      <td>2 + 1 bath</td>\n",
       "      <td>house</td>\n",
       "    </tr>\n",
       "    <tr>\n",
       "      <th>1</th>\n",
       "      <td>$351,999</td>\n",
       "      <td>79 GALBRAITH DR SW</td>\n",
       "      <td>T3E 4Z5</td>\n",
       "      <td>N/A bed</td>\n",
       "      <td>N/A bath</td>\n",
       "      <td>house</td>\n",
       "    </tr>\n",
       "    <tr>\n",
       "      <th>2</th>\n",
       "      <td>$449,999</td>\n",
       "      <td>275 TARAVISTA ST NE</td>\n",
       "      <td>T3J 4S5</td>\n",
       "      <td>5 bed</td>\n",
       "      <td>2 + 1 bath</td>\n",
       "      <td>house</td>\n",
       "    </tr>\n",
       "    <tr>\n",
       "      <th>3</th>\n",
       "      <td>$469,900</td>\n",
       "      <td>25 DOUGLASBANK RISE SE</td>\n",
       "      <td>T2Z 2C5</td>\n",
       "      <td>4 bed</td>\n",
       "      <td>2 + 1 bath</td>\n",
       "      <td>house</td>\n",
       "    </tr>\n",
       "    <tr>\n",
       "      <th>4</th>\n",
       "      <td>$419,900</td>\n",
       "      <td>111 PANORAMA HILLS PL NW</td>\n",
       "      <td>T3K 4R9</td>\n",
       "      <td>3 bed</td>\n",
       "      <td>2 bath</td>\n",
       "      <td>house</td>\n",
       "    </tr>\n",
       "  </tbody>\n",
       "</table>\n",
       "</div>"
      ],
      "text/plain": [
       "      price                   address postal_code bedrooms        bath  \\\n",
       "0  $489,000  140 CITADEL CREST CIR NW     T3G 4G3    3 bed  2 + 1 bath   \n",
       "1  $351,999        79 GALBRAITH DR SW     T3E 4Z5  N/A bed    N/A bath   \n",
       "2  $449,999       275 TARAVISTA ST NE     T3J 4S5    5 bed  2 + 1 bath   \n",
       "3  $469,900    25 DOUGLASBANK RISE SE     T2Z 2C5    4 bed  2 + 1 bath   \n",
       "4  $419,900  111 PANORAMA HILLS PL NW     T3K 4R9    3 bed      2 bath   \n",
       "\n",
       "  property_type  \n",
       "0         house  \n",
       "1         house  \n",
       "2         house  \n",
       "3         house  \n",
       "4         house  "
      ]
     },
     "execution_count": 9,
     "metadata": {},
     "output_type": "execute_result"
    }
   ],
   "source": [
    "# toronto_df = pd.concat([df_add, details_df], axis=1)\n",
    "# toronto_df.head()\n",
    "\n",
    "\n",
    "calgary_df = pd.concat([df_add, details_df], axis=1)\n",
    "calgary_df.head()"
   ]
  },
  {
   "cell_type": "markdown",
   "metadata": {},
   "source": [
    "----"
   ]
  },
  {
   "cell_type": "markdown",
   "metadata": {},
   "source": [
    "### **Testing**"
   ]
  },
  {
   "cell_type": "markdown",
   "metadata": {},
   "source": [
    "# Testing Walkscore Score"
   ]
  },
  {
   "cell_type": "code",
   "execution_count": 32,
   "metadata": {},
   "outputs": [
    {
     "name": "stdout",
     "output_type": "stream",
     "text": [
      "Please enter your postal code: T2V 2L4\n"
     ]
    }
   ],
   "source": [
    "postal_code = input(\"Please enter your postal code: \")\n",
    "if len(postal_code) != 7:\n",
    "    print (\"Error! Only 7 characters allowed! Please use the correct format\")\n",
    "\n"
   ]
  },
  {
   "cell_type": "code",
   "execution_count": 33,
   "metadata": {},
   "outputs": [],
   "source": [
    "postal_code = postal_code.replace(\" \", \"%20\")"
   ]
  },
  {
   "cell_type": "code",
   "execution_count": 52,
   "metadata": {},
   "outputs": [
    {
     "name": "stdout",
     "output_type": "stream",
     "text": [
      "https://www.walkscore.com/score/T2V%202L4\n"
     ]
    }
   ],
   "source": [
    "url = \"https://www.walkscore.com/score/\" + str(postal_code)\n",
    "print(url)"
   ]
  },
  {
   "cell_type": "markdown",
   "metadata": {},
   "source": [
    "# Code Starts here"
   ]
  },
  {
   "cell_type": "code",
   "execution_count": 10,
   "metadata": {
    "scrolled": true
   },
   "outputs": [
    {
     "data": {
      "text/plain": [
       "['T3G 4G3', 'T3E 4Z5']"
      ]
     },
     "execution_count": 10,
     "metadata": {},
     "output_type": "execute_result"
    }
   ],
   "source": [
    "post_code_list = []\n",
    "\n",
    "for i in calgary_df[\"postal_code\"]:\n",
    "    post_code_list.append(i)\n",
    "    \n",
    "post_code_list_3 = post_code_list[0:2]\n",
    "post_code_list_3"
   ]
  },
  {
   "cell_type": "code",
   "execution_count": 11,
   "metadata": {},
   "outputs": [],
   "source": [
    "score_list = []\n",
    "\n",
    "for i in post_code_list:\n",
    "    try:\n",
    "        postal_code = i.replace(\" \", \"%20\")\n",
    "        url_score = \"https://www.walkscore.com/score/\" + str(postal_code)\n",
    "\n",
    "        #executable_path = {'executable_path': '/usr/local/bin/chromedriver'}\n",
    "        #browser = Browser(\"chrome\", **executable_path, headless = True)\n",
    "\n",
    "        #browser.visit(url)\n",
    "        time.sleep(2)\n",
    "\n",
    "        # HTML Object\n",
    "        #code_html = browser.html\n",
    "\n",
    "        # Parse HTML with Beautiful Soup\n",
    "        response = requests.get(url_score)\n",
    "        code_soup = BeautifulSoup(response.text, 'html.parser')\n",
    "\n",
    "        walk_score1 = code_soup.find_all('div', class_='clearfix score-div')\n",
    "        time.sleep(1)\n",
    "\n",
    "        walk_score_list = []\n",
    "\n",
    "        for j in walk_score1:\n",
    "            walk_score_list.append(j.img['alt'])\n",
    "\n",
    "            scores = []\n",
    "\n",
    "            for k in walk_score_list:\n",
    "                number = k.split(\" \")[0]\n",
    "                scores.append(number)\n",
    "\n",
    "\n",
    "        score_list.append(scores)\n",
    "        \n",
    "    except AttributeError:\n",
    "        empty = []\n",
    "        score_list.append(empty)\n",
    "        \n",
    "#         print(\"None\")\n",
    "        \n",
    "\n",
    "            \n",
    "        "
   ]
  },
  {
   "cell_type": "markdown",
   "metadata": {},
   "source": [
    "score_list = []\n",
    "\n",
    "for i in post_code_list_3:\n",
    "    try:\n",
    "        #postal_code = i.replace(\" \", \"%20\")\n",
    "        #url_score = \"https://www.walkscore.com/score/\" + str(postal_code)\n",
    "\n",
    "        #executable_path = {'executable_path': '/usr/local/bin/chromedriver'}\n",
    "        time.sleep(2)\n",
    "        browser = Browser('firefox', headless = False)\n",
    "        \n",
    "        url_walk = 'https://www.walkscore.com/score/'\n",
    "        browser.visit(url_walk)\n",
    "        browser.find_by_id(\"addrbar-street\").fill(i)\n",
    "        browser.click_link_by_partial_text(\"Go\")\n",
    "        time.sleep(3)\n",
    "        \n",
    "        \n",
    "\n",
    "        # HTML Object\n",
    "        code_html = browser.html\n",
    "        browser.quit()\n",
    "        \n",
    "\n",
    "        # Parse HTML with Beautiful Soup\n",
    "        response = requests.get(code_html)\n",
    "        code_soup = BeautifulSoup(response.text, 'html.parser')\n",
    "\n",
    "        walk_score1 = code_soup.find_all('div', class_='clearfix score-div')\n",
    "        time.sleep(1)\n",
    "\n",
    "        walk_score_list = []\n",
    "\n",
    "        for j in walk_score1:\n",
    "            walk_score_list.append(j.img['alt'])\n",
    "\n",
    "            scores = []\n",
    "\n",
    "            for k in walk_score_list:\n",
    "                number = k.split(\" \")[0]\n",
    "                scores.append(number)\n",
    "\n",
    "\n",
    "        score_list.append(scores)\n",
    "        \n",
    "        \n",
    "    except AttributeError:\n",
    "        empty = []\n",
    "        score_list.append(empty)\n",
    "        \n",
    "        \n"
   ]
  },
  {
   "cell_type": "code",
   "execution_count": 12,
   "metadata": {},
   "outputs": [
    {
     "name": "stdout",
     "output_type": "stream",
     "text": [
      "[['23', '38', '65'], ['43', '47', '67'], ['10', '49', '62'], ['22', '41', '65'], ['37', '48', '71'], ['51', '60'], ['1', '26', '36'], ['35', '37', '72'], ['9', '30', '45'], ['12', '37', '53'], ['45', '46', '55'], ['30', '41', '70'], ['86', '69', '99'], ['3', '27', '37'], ['17', '44', '48'], ['94', '76', '94'], ['1', '35', '61'], ['9', '36', '56'], ['49', '31', '62'], ['91', '67', '97'], ['23', '38', '65'], ['43', '47', '67'], ['10', '49', '62'], ['22', '41', '65'], ['37', '48', '71'], ['51', '60'], ['1', '26', '36'], ['35', '37', '72'], ['9', '30', '45'], ['12', '37', '53'], ['45', '46', '55'], ['30', '41', '70'], ['86', '69', '99'], ['3', '27', '37'], ['17', '44', '48'], ['94', '76', '94'], ['1', '35', '61'], ['9', '36', '56'], ['49', '31', '62'], ['91', '67', '97']]\n"
     ]
    }
   ],
   "source": [
    "print(score_list)"
   ]
  },
  {
   "cell_type": "code",
   "execution_count": 13,
   "metadata": {},
   "outputs": [
    {
     "data": {
      "text/plain": [
       "40"
      ]
     },
     "execution_count": 13,
     "metadata": {},
     "output_type": "execute_result"
    }
   ],
   "source": [
    "len(score_list)"
   ]
  },
  {
   "cell_type": "code",
   "execution_count": 14,
   "metadata": {},
   "outputs": [
    {
     "data": {
      "text/plain": [
       "40"
      ]
     },
     "execution_count": 14,
     "metadata": {},
     "output_type": "execute_result"
    }
   ],
   "source": [
    "len(post_code_list)"
   ]
  },
  {
   "cell_type": "code",
   "execution_count": 15,
   "metadata": {},
   "outputs": [
    {
     "data": {
      "text/html": [
       "<div>\n",
       "<style scoped>\n",
       "    .dataframe tbody tr th:only-of-type {\n",
       "        vertical-align: middle;\n",
       "    }\n",
       "\n",
       "    .dataframe tbody tr th {\n",
       "        vertical-align: top;\n",
       "    }\n",
       "\n",
       "    .dataframe thead th {\n",
       "        text-align: right;\n",
       "    }\n",
       "</style>\n",
       "<table border=\"1\" class=\"dataframe\">\n",
       "  <thead>\n",
       "    <tr style=\"text-align: right;\">\n",
       "      <th></th>\n",
       "      <th>walk_score</th>\n",
       "      <th>transit_score</th>\n",
       "      <th>bike_score</th>\n",
       "    </tr>\n",
       "  </thead>\n",
       "  <tbody>\n",
       "    <tr>\n",
       "      <th>0</th>\n",
       "      <td>23</td>\n",
       "      <td>38</td>\n",
       "      <td>65</td>\n",
       "    </tr>\n",
       "    <tr>\n",
       "      <th>1</th>\n",
       "      <td>43</td>\n",
       "      <td>47</td>\n",
       "      <td>67</td>\n",
       "    </tr>\n",
       "    <tr>\n",
       "      <th>2</th>\n",
       "      <td>10</td>\n",
       "      <td>49</td>\n",
       "      <td>62</td>\n",
       "    </tr>\n",
       "    <tr>\n",
       "      <th>3</th>\n",
       "      <td>22</td>\n",
       "      <td>41</td>\n",
       "      <td>65</td>\n",
       "    </tr>\n",
       "    <tr>\n",
       "      <th>4</th>\n",
       "      <td>37</td>\n",
       "      <td>48</td>\n",
       "      <td>71</td>\n",
       "    </tr>\n",
       "  </tbody>\n",
       "</table>\n",
       "</div>"
      ],
      "text/plain": [
       "  walk_score transit_score bike_score\n",
       "0         23            38         65\n",
       "1         43            47         67\n",
       "2         10            49         62\n",
       "3         22            41         65\n",
       "4         37            48         71"
      ]
     },
     "execution_count": 15,
     "metadata": {},
     "output_type": "execute_result"
    }
   ],
   "source": [
    "score_df = pd.DataFrame(score_list, columns=['walk_score', \n",
    "                                             'transit_score', \n",
    "                                             'bike_score'])\n",
    "score_df.head()"
   ]
  },
  {
   "cell_type": "code",
   "execution_count": 39,
   "metadata": {},
   "outputs": [],
   "source": [
    "# copy_dd_test = data_dump1_test.copy()\n",
    "# copy_dd_test.head()"
   ]
  },
  {
   "cell_type": "code",
   "execution_count": 16,
   "metadata": {},
   "outputs": [
    {
     "data": {
      "text/html": [
       "<div>\n",
       "<style scoped>\n",
       "    .dataframe tbody tr th:only-of-type {\n",
       "        vertical-align: middle;\n",
       "    }\n",
       "\n",
       "    .dataframe tbody tr th {\n",
       "        vertical-align: top;\n",
       "    }\n",
       "\n",
       "    .dataframe thead th {\n",
       "        text-align: right;\n",
       "    }\n",
       "</style>\n",
       "<table border=\"1\" class=\"dataframe\">\n",
       "  <thead>\n",
       "    <tr style=\"text-align: right;\">\n",
       "      <th></th>\n",
       "      <th>postal_code</th>\n",
       "      <th>walk_score</th>\n",
       "      <th>transit_score</th>\n",
       "      <th>bike_score</th>\n",
       "    </tr>\n",
       "  </thead>\n",
       "  <tbody>\n",
       "    <tr>\n",
       "      <th>0</th>\n",
       "      <td>T3G 4G3</td>\n",
       "      <td>23</td>\n",
       "      <td>38</td>\n",
       "      <td>65</td>\n",
       "    </tr>\n",
       "    <tr>\n",
       "      <th>1</th>\n",
       "      <td>T3E 4Z5</td>\n",
       "      <td>43</td>\n",
       "      <td>47</td>\n",
       "      <td>67</td>\n",
       "    </tr>\n",
       "    <tr>\n",
       "      <th>2</th>\n",
       "      <td>T3J 4S5</td>\n",
       "      <td>10</td>\n",
       "      <td>49</td>\n",
       "      <td>62</td>\n",
       "    </tr>\n",
       "    <tr>\n",
       "      <th>3</th>\n",
       "      <td>T2Z 2C5</td>\n",
       "      <td>22</td>\n",
       "      <td>41</td>\n",
       "      <td>65</td>\n",
       "    </tr>\n",
       "    <tr>\n",
       "      <th>4</th>\n",
       "      <td>T3K 4R9</td>\n",
       "      <td>37</td>\n",
       "      <td>48</td>\n",
       "      <td>71</td>\n",
       "    </tr>\n",
       "  </tbody>\n",
       "</table>\n",
       "</div>"
      ],
      "text/plain": [
       "  postal_code walk_score transit_score bike_score\n",
       "0     T3G 4G3         23            38         65\n",
       "1     T3E 4Z5         43            47         67\n",
       "2     T3J 4S5         10            49         62\n",
       "3     T2Z 2C5         22            41         65\n",
       "4     T3K 4R9         37            48         71"
      ]
     },
     "execution_count": 16,
     "metadata": {},
     "output_type": "execute_result"
    }
   ],
   "source": [
    "postal_code_df = pd.DataFrame(post_code_list, columns=['postal_code'])\n",
    "merged_df = pd.concat([postal_code_df, score_df], axis=1)\n",
    "merged_df.head()"
   ]
  },
  {
   "cell_type": "markdown",
   "metadata": {},
   "source": [
    "\n",
    "new_df = pd.concat([calgary_df, score_df], axis=1)\n",
    "new_df.head()"
   ]
  },
  {
   "cell_type": "code",
   "execution_count": 17,
   "metadata": {
    "scrolled": true
   },
   "outputs": [
    {
     "data": {
      "text/html": [
       "<div>\n",
       "<style scoped>\n",
       "    .dataframe tbody tr th:only-of-type {\n",
       "        vertical-align: middle;\n",
       "    }\n",
       "\n",
       "    .dataframe tbody tr th {\n",
       "        vertical-align: top;\n",
       "    }\n",
       "\n",
       "    .dataframe thead th {\n",
       "        text-align: right;\n",
       "    }\n",
       "</style>\n",
       "<table border=\"1\" class=\"dataframe\">\n",
       "  <thead>\n",
       "    <tr style=\"text-align: right;\">\n",
       "      <th></th>\n",
       "      <th>price</th>\n",
       "      <th>address</th>\n",
       "      <th>postal_code</th>\n",
       "      <th>bedrooms</th>\n",
       "      <th>bath</th>\n",
       "      <th>property_type</th>\n",
       "    </tr>\n",
       "  </thead>\n",
       "  <tbody>\n",
       "    <tr>\n",
       "      <th>0</th>\n",
       "      <td>$489,000</td>\n",
       "      <td>140 CITADEL CREST CIR NW</td>\n",
       "      <td>T3G 4G3</td>\n",
       "      <td>3 bed</td>\n",
       "      <td>2 + 1 bath</td>\n",
       "      <td>house</td>\n",
       "    </tr>\n",
       "    <tr>\n",
       "      <th>1</th>\n",
       "      <td>$351,999</td>\n",
       "      <td>79 GALBRAITH DR SW</td>\n",
       "      <td>T3E 4Z5</td>\n",
       "      <td>N/A bed</td>\n",
       "      <td>N/A bath</td>\n",
       "      <td>house</td>\n",
       "    </tr>\n",
       "    <tr>\n",
       "      <th>2</th>\n",
       "      <td>$449,999</td>\n",
       "      <td>275 TARAVISTA ST NE</td>\n",
       "      <td>T3J 4S5</td>\n",
       "      <td>5 bed</td>\n",
       "      <td>2 + 1 bath</td>\n",
       "      <td>house</td>\n",
       "    </tr>\n",
       "    <tr>\n",
       "      <th>3</th>\n",
       "      <td>$469,900</td>\n",
       "      <td>25 DOUGLASBANK RISE SE</td>\n",
       "      <td>T2Z 2C5</td>\n",
       "      <td>4 bed</td>\n",
       "      <td>2 + 1 bath</td>\n",
       "      <td>house</td>\n",
       "    </tr>\n",
       "    <tr>\n",
       "      <th>4</th>\n",
       "      <td>$419,900</td>\n",
       "      <td>111 PANORAMA HILLS PL NW</td>\n",
       "      <td>T3K 4R9</td>\n",
       "      <td>3 bed</td>\n",
       "      <td>2 bath</td>\n",
       "      <td>house</td>\n",
       "    </tr>\n",
       "  </tbody>\n",
       "</table>\n",
       "</div>"
      ],
      "text/plain": [
       "      price                   address postal_code bedrooms        bath  \\\n",
       "0  $489,000  140 CITADEL CREST CIR NW     T3G 4G3    3 bed  2 + 1 bath   \n",
       "1  $351,999        79 GALBRAITH DR SW     T3E 4Z5  N/A bed    N/A bath   \n",
       "2  $449,999       275 TARAVISTA ST NE     T3J 4S5    5 bed  2 + 1 bath   \n",
       "3  $469,900    25 DOUGLASBANK RISE SE     T2Z 2C5    4 bed  2 + 1 bath   \n",
       "4  $419,900  111 PANORAMA HILLS PL NW     T3K 4R9    3 bed      2 bath   \n",
       "\n",
       "  property_type  \n",
       "0         house  \n",
       "1         house  \n",
       "2         house  \n",
       "3         house  \n",
       "4         house  "
      ]
     },
     "execution_count": 17,
     "metadata": {},
     "output_type": "execute_result"
    }
   ],
   "source": [
    "calgary_df.head()"
   ]
  },
  {
   "cell_type": "markdown",
   "metadata": {},
   "source": [
    "https://www.walkscore.com/score/t2m%202c7"
   ]
  },
  {
   "cell_type": "code",
   "execution_count": 18,
   "metadata": {},
   "outputs": [],
   "source": [
    "from sqlalchemy import create_engine"
   ]
  },
  {
   "cell_type": "code",
   "execution_count": 19,
   "metadata": {},
   "outputs": [],
   "source": [
    "rds_connection_string = \"postgres:1@localhost:5432/realestate_db\"\n",
    "engine = create_engine(f'postgresql://{rds_connection_string}')"
   ]
  },
  {
   "cell_type": "code",
   "execution_count": 25,
   "metadata": {},
   "outputs": [
    {
     "data": {
      "text/plain": [
       "['score_df', 'calgary_df']"
      ]
     },
     "execution_count": 25,
     "metadata": {},
     "output_type": "execute_result"
    }
   ],
   "source": [
    "engine.table_names()"
   ]
  },
  {
   "cell_type": "code",
   "execution_count": 29,
   "metadata": {},
   "outputs": [],
   "source": [
    "calgary_df.to_sql(name= \"calgary_df\", \n",
    "                      con=engine, \n",
    "                      if_exists=\"append\", \n",
    "                      index=False)"
   ]
  },
  {
   "cell_type": "code",
   "execution_count": null,
   "metadata": {},
   "outputs": [],
   "source": []
  }
 ],
 "metadata": {
  "kernelspec": {
   "display_name": "Python 3",
   "language": "python",
   "name": "python3"
  },
  "language_info": {
   "codemirror_mode": {
    "name": "ipython",
    "version": 3
   },
   "file_extension": ".py",
   "mimetype": "text/x-python",
   "name": "python",
   "nbconvert_exporter": "python",
   "pygments_lexer": "ipython3",
   "version": "3.7.6"
  }
 },
 "nbformat": 4,
 "nbformat_minor": 2
}
