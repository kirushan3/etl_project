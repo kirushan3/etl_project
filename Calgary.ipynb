{
 "cells": [
  {
   "cell_type": "code",
   "execution_count": 107,
   "metadata": {},
   "outputs": [],
   "source": [
    "import pandas as pd\n",
    "import numpy as np\n",
    "import requests\n",
    "from bs4 import BeautifulSoup\n",
    "import time\n",
    "from splinter import Browser\n",
    "import warnings\n",
    "warnings.filterwarnings('ignore')"
   ]
  },
  {
   "cell_type": "code",
   "execution_count": 108,
   "metadata": {},
   "outputs": [
    {
     "name": "stdout",
     "output_type": "stream",
     "text": [
      "Please enter the abbreviation of your province: ab\n",
      "Please enter city: Calgary\n",
      "https://www.remax.ca/ab/calgary-real-estate\n"
     ]
    }
   ],
   "source": [
    "#url = 'https://www.remax.ca/ab/calgary-real-estate'\n",
    "province_abb = input(\"Please enter the abbreviation of your province: \")\n",
    "province_name = province_abb.lower()\n",
    "city_name_input = input(\"Please enter city: \")\n",
    "city_name = city_name_input.lower()\n",
    "base_url = f'https://www.remax.ca/{province_name}/{city_name}-real-estate'\n",
    "print(base_url)"
   ]
  },
  {
   "cell_type": "code",
   "execution_count": 109,
   "metadata": {},
   "outputs": [],
   "source": [
    "house_address = []\n",
    "house_details = []\n",
    "\n",
    "\n",
    "base_url = f'https://www.remax.ca/{province_name}/{city_name}-real-estate?page='\n",
    "urls = [base_url + str(x) for x in range(1,2)]\n",
    "\n",
    "\n",
    "for url in urls:\n",
    "    \n",
    "    #browser.visit(url)\n",
    "    time.sleep(5)\n",
    "    \n",
    "    # HTML Object\n",
    "    #html = browser.html\n",
    "\n",
    "    # Parse HTML with Beautiful Soup\n",
    "    response = requests.get(url)\n",
    "    soup = BeautifulSoup(response.text, 'html.parser')\n",
    "\n",
    "    addresses = soup.find_all('div', class_='left-content flex-one')\n",
    "    for address in addresses:\n",
    "        house_address.append(address.text)\n",
    "        \n",
    "    details = soup.find_all('div', class_='property-details')\n",
    "    for detail in details:\n",
    "        house_details.append(detail.text)\n",
    "#print(soup)\n",
    "  "
   ]
  },
  {
   "cell_type": "code",
   "execution_count": 13,
   "metadata": {},
   "outputs": [],
   "source": [
    "#house_address\n",
    "#house_details"
   ]
  },
  {
   "cell_type": "code",
   "execution_count": 117,
   "metadata": {},
   "outputs": [
    {
     "data": {
      "text/html": [
       "<div>\n",
       "<style scoped>\n",
       "    .dataframe tbody tr th:only-of-type {\n",
       "        vertical-align: middle;\n",
       "    }\n",
       "\n",
       "    .dataframe tbody tr th {\n",
       "        vertical-align: top;\n",
       "    }\n",
       "\n",
       "    .dataframe thead th {\n",
       "        text-align: right;\n",
       "    }\n",
       "</style>\n",
       "<table border=\"1\" class=\"dataframe\">\n",
       "  <thead>\n",
       "    <tr style=\"text-align: right;\">\n",
       "      <th></th>\n",
       "      <th>2</th>\n",
       "      <th>price</th>\n",
       "    </tr>\n",
       "  </thead>\n",
       "  <tbody>\n",
       "    <tr>\n",
       "      <th>0</th>\n",
       "      <td>140 CITADEL CREST CIR NW, Calgary, AB, T3G 4G3</td>\n",
       "      <td>489,000</td>\n",
       "    </tr>\n",
       "    <tr>\n",
       "      <th>1</th>\n",
       "      <td>79 GALBRAITH DR SW, Calgary, AB, T3E 4Z5</td>\n",
       "      <td>351,999</td>\n",
       "    </tr>\n",
       "    <tr>\n",
       "      <th>2</th>\n",
       "      <td>275 TARAVISTA ST NE, Calgary, AB, T3J 4S5</td>\n",
       "      <td>449,999</td>\n",
       "    </tr>\n",
       "    <tr>\n",
       "      <th>3</th>\n",
       "      <td>25 DOUGLASBANK RISE SE, Calgary, AB, T2Z 2C5</td>\n",
       "      <td>469,900</td>\n",
       "    </tr>\n",
       "    <tr>\n",
       "      <th>4</th>\n",
       "      <td>111 PANORAMA HILLS PL NW, Calgary, AB, T3K 4R9</td>\n",
       "      <td>419,900</td>\n",
       "    </tr>\n",
       "  </tbody>\n",
       "</table>\n",
       "</div>"
      ],
      "text/plain": [
       "                                                2    price\n",
       "0  140 CITADEL CREST CIR NW, Calgary, AB, T3G 4G3  489,000\n",
       "1        79 GALBRAITH DR SW, Calgary, AB, T3E 4Z5  351,999\n",
       "2       275 TARAVISTA ST NE, Calgary, AB, T3J 4S5  449,999\n",
       "3    25 DOUGLASBANK RISE SE, Calgary, AB, T2Z 2C5  469,900\n",
       "4  111 PANORAMA HILLS PL NW, Calgary, AB, T3K 4R9  419,900"
      ]
     },
     "execution_count": 117,
     "metadata": {},
     "output_type": "execute_result"
    }
   ],
   "source": [
    "address_df = pd.DataFrame(house_address)\n",
    "\n",
    "new_df = address_df[0].str.split(' ', 2, expand=True)\n",
    "new_df[\"price\"] = new_df[1].str.replace(\"$\", \"\")\n",
    "\n",
    "del new_df[0]\n",
    "del new_df[1]\n",
    "new_df.head()"
   ]
  },
  {
   "cell_type": "code",
   "execution_count": 118,
   "metadata": {},
   "outputs": [
    {
     "data": {
      "text/html": [
       "<div>\n",
       "<style scoped>\n",
       "    .dataframe tbody tr th:only-of-type {\n",
       "        vertical-align: middle;\n",
       "    }\n",
       "\n",
       "    .dataframe tbody tr th {\n",
       "        vertical-align: top;\n",
       "    }\n",
       "\n",
       "    .dataframe thead th {\n",
       "        text-align: right;\n",
       "    }\n",
       "</style>\n",
       "<table border=\"1\" class=\"dataframe\">\n",
       "  <thead>\n",
       "    <tr style=\"text-align: right;\">\n",
       "      <th></th>\n",
       "      <th>0</th>\n",
       "      <th>1</th>\n",
       "    </tr>\n",
       "  </thead>\n",
       "  <tbody>\n",
       "    <tr>\n",
       "      <th>0</th>\n",
       "      <td>140 CITADEL CREST CIR NW</td>\n",
       "      <td>T3G 4G3</td>\n",
       "    </tr>\n",
       "    <tr>\n",
       "      <th>1</th>\n",
       "      <td>79 GALBRAITH DR SW</td>\n",
       "      <td>T3E 4Z5</td>\n",
       "    </tr>\n",
       "    <tr>\n",
       "      <th>2</th>\n",
       "      <td>275 TARAVISTA ST NE</td>\n",
       "      <td>T3J 4S5</td>\n",
       "    </tr>\n",
       "    <tr>\n",
       "      <th>3</th>\n",
       "      <td>25 DOUGLASBANK RISE SE</td>\n",
       "      <td>T2Z 2C5</td>\n",
       "    </tr>\n",
       "    <tr>\n",
       "      <th>4</th>\n",
       "      <td>111 PANORAMA HILLS PL NW</td>\n",
       "      <td>T3K 4R9</td>\n",
       "    </tr>\n",
       "  </tbody>\n",
       "</table>\n",
       "</div>"
      ],
      "text/plain": [
       "                          0        1\n",
       "0  140 CITADEL CREST CIR NW  T3G 4G3\n",
       "1        79 GALBRAITH DR SW  T3E 4Z5\n",
       "2       275 TARAVISTA ST NE  T3J 4S5\n",
       "3    25 DOUGLASBANK RISE SE  T2Z 2C5\n",
       "4  111 PANORAMA HILLS PL NW  T3K 4R9"
      ]
     },
     "execution_count": 118,
     "metadata": {},
     "output_type": "execute_result"
    }
   ],
   "source": [
    "final_df = new_df[2].str.split(', Calgary, AB, ', expand=True)\n",
    "# final_df = new_df[2].str.split(', Toronto, ON, ', expand=True)\n",
    "final_df.head()"
   ]
  },
  {
   "cell_type": "code",
   "execution_count": 124,
   "metadata": {},
   "outputs": [
    {
     "data": {
      "text/html": [
       "<div>\n",
       "<style scoped>\n",
       "    .dataframe tbody tr th:only-of-type {\n",
       "        vertical-align: middle;\n",
       "    }\n",
       "\n",
       "    .dataframe tbody tr th {\n",
       "        vertical-align: top;\n",
       "    }\n",
       "\n",
       "    .dataframe thead th {\n",
       "        text-align: right;\n",
       "    }\n",
       "</style>\n",
       "<table border=\"1\" class=\"dataframe\">\n",
       "  <thead>\n",
       "    <tr style=\"text-align: right;\">\n",
       "      <th></th>\n",
       "      <th>price</th>\n",
       "      <th>address</th>\n",
       "      <th>postal_code</th>\n",
       "    </tr>\n",
       "  </thead>\n",
       "  <tbody>\n",
       "    <tr>\n",
       "      <th>0</th>\n",
       "      <td>489,000</td>\n",
       "      <td>140 CITADEL CREST CIR NW</td>\n",
       "      <td>T3G 4G3</td>\n",
       "    </tr>\n",
       "    <tr>\n",
       "      <th>1</th>\n",
       "      <td>351,999</td>\n",
       "      <td>79 GALBRAITH DR SW</td>\n",
       "      <td>T3E 4Z5</td>\n",
       "    </tr>\n",
       "    <tr>\n",
       "      <th>2</th>\n",
       "      <td>449,999</td>\n",
       "      <td>275 TARAVISTA ST NE</td>\n",
       "      <td>T3J 4S5</td>\n",
       "    </tr>\n",
       "    <tr>\n",
       "      <th>3</th>\n",
       "      <td>469,900</td>\n",
       "      <td>25 DOUGLASBANK RISE SE</td>\n",
       "      <td>T2Z 2C5</td>\n",
       "    </tr>\n",
       "    <tr>\n",
       "      <th>4</th>\n",
       "      <td>419,900</td>\n",
       "      <td>111 PANORAMA HILLS PL NW</td>\n",
       "      <td>T3K 4R9</td>\n",
       "    </tr>\n",
       "  </tbody>\n",
       "</table>\n",
       "</div>"
      ],
      "text/plain": [
       "     price                   address postal_code\n",
       "0  489,000  140 CITADEL CREST CIR NW     T3G 4G3\n",
       "1  351,999        79 GALBRAITH DR SW     T3E 4Z5\n",
       "2  449,999       275 TARAVISTA ST NE     T3J 4S5\n",
       "3  469,900    25 DOUGLASBANK RISE SE     T2Z 2C5\n",
       "4  419,900  111 PANORAMA HILLS PL NW     T3K 4R9"
      ]
     },
     "execution_count": 124,
     "metadata": {},
     "output_type": "execute_result"
    }
   ],
   "source": [
    "df_add = pd.concat([new_df, final_df], axis=1)\n",
    "del df_add[2]\n",
    "df_add.columns = [\"price\", \"address\", \"postal_code\"]\n",
    "df_add.head()"
   ]
  },
  {
   "cell_type": "code",
   "execution_count": 125,
   "metadata": {
    "scrolled": true
   },
   "outputs": [
    {
     "data": {
      "text/html": [
       "<div>\n",
       "<style scoped>\n",
       "    .dataframe tbody tr th:only-of-type {\n",
       "        vertical-align: middle;\n",
       "    }\n",
       "\n",
       "    .dataframe tbody tr th {\n",
       "        vertical-align: top;\n",
       "    }\n",
       "\n",
       "    .dataframe thead th {\n",
       "        text-align: right;\n",
       "    }\n",
       "</style>\n",
       "<table border=\"1\" class=\"dataframe\">\n",
       "  <thead>\n",
       "    <tr style=\"text-align: right;\">\n",
       "      <th></th>\n",
       "      <th>bedrooms</th>\n",
       "      <th>bath</th>\n",
       "      <th>property_type</th>\n",
       "    </tr>\n",
       "  </thead>\n",
       "  <tbody>\n",
       "    <tr>\n",
       "      <th>0</th>\n",
       "      <td>3 bed</td>\n",
       "      <td>2 + 1 bath</td>\n",
       "      <td>house</td>\n",
       "    </tr>\n",
       "    <tr>\n",
       "      <th>1</th>\n",
       "      <td>N/A bed</td>\n",
       "      <td>N/A bath</td>\n",
       "      <td>house</td>\n",
       "    </tr>\n",
       "    <tr>\n",
       "      <th>2</th>\n",
       "      <td>5 bed</td>\n",
       "      <td>2 + 1 bath</td>\n",
       "      <td>house</td>\n",
       "    </tr>\n",
       "    <tr>\n",
       "      <th>3</th>\n",
       "      <td>4 bed</td>\n",
       "      <td>2 + 1 bath</td>\n",
       "      <td>house</td>\n",
       "    </tr>\n",
       "    <tr>\n",
       "      <th>4</th>\n",
       "      <td>3 bed</td>\n",
       "      <td>2 bath</td>\n",
       "      <td>house</td>\n",
       "    </tr>\n",
       "  </tbody>\n",
       "</table>\n",
       "</div>"
      ],
      "text/plain": [
       "  bedrooms        bath property_type\n",
       "0    3 bed  2 + 1 bath         house\n",
       "1  N/A bed    N/A bath         house\n",
       "2    5 bed  2 + 1 bath         house\n",
       "3    4 bed  2 + 1 bath         house\n",
       "4    3 bed      2 bath         house"
      ]
     },
     "execution_count": 125,
     "metadata": {},
     "output_type": "execute_result"
    }
   ],
   "source": [
    "details = pd.DataFrame(house_details)\n",
    "\n",
    "details_df = details[0].str.split('|', expand=True)\n",
    "details_df\n",
    "\n",
    "del details_df[2]\n",
    "\n",
    "details_df.columns = [\"bedrooms\", \"bath\", \"property_type\"]\n",
    "details_df.head()"
   ]
  },
  {
   "cell_type": "code",
   "execution_count": 126,
   "metadata": {},
   "outputs": [
    {
     "data": {
      "text/html": [
       "<div>\n",
       "<style scoped>\n",
       "    .dataframe tbody tr th:only-of-type {\n",
       "        vertical-align: middle;\n",
       "    }\n",
       "\n",
       "    .dataframe tbody tr th {\n",
       "        vertical-align: top;\n",
       "    }\n",
       "\n",
       "    .dataframe thead th {\n",
       "        text-align: right;\n",
       "    }\n",
       "</style>\n",
       "<table border=\"1\" class=\"dataframe\">\n",
       "  <thead>\n",
       "    <tr style=\"text-align: right;\">\n",
       "      <th></th>\n",
       "      <th>price</th>\n",
       "      <th>address</th>\n",
       "      <th>postal_code</th>\n",
       "      <th>bedrooms</th>\n",
       "      <th>bath</th>\n",
       "      <th>property_type</th>\n",
       "    </tr>\n",
       "  </thead>\n",
       "  <tbody>\n",
       "    <tr>\n",
       "      <th>0</th>\n",
       "      <td>489,000</td>\n",
       "      <td>140 CITADEL CREST CIR NW</td>\n",
       "      <td>T3G 4G3</td>\n",
       "      <td>3 bed</td>\n",
       "      <td>2 + 1 bath</td>\n",
       "      <td>house</td>\n",
       "    </tr>\n",
       "    <tr>\n",
       "      <th>1</th>\n",
       "      <td>351,999</td>\n",
       "      <td>79 GALBRAITH DR SW</td>\n",
       "      <td>T3E 4Z5</td>\n",
       "      <td>N/A bed</td>\n",
       "      <td>N/A bath</td>\n",
       "      <td>house</td>\n",
       "    </tr>\n",
       "    <tr>\n",
       "      <th>2</th>\n",
       "      <td>449,999</td>\n",
       "      <td>275 TARAVISTA ST NE</td>\n",
       "      <td>T3J 4S5</td>\n",
       "      <td>5 bed</td>\n",
       "      <td>2 + 1 bath</td>\n",
       "      <td>house</td>\n",
       "    </tr>\n",
       "    <tr>\n",
       "      <th>3</th>\n",
       "      <td>469,900</td>\n",
       "      <td>25 DOUGLASBANK RISE SE</td>\n",
       "      <td>T2Z 2C5</td>\n",
       "      <td>4 bed</td>\n",
       "      <td>2 + 1 bath</td>\n",
       "      <td>house</td>\n",
       "    </tr>\n",
       "    <tr>\n",
       "      <th>4</th>\n",
       "      <td>419,900</td>\n",
       "      <td>111 PANORAMA HILLS PL NW</td>\n",
       "      <td>T3K 4R9</td>\n",
       "      <td>3 bed</td>\n",
       "      <td>2 bath</td>\n",
       "      <td>house</td>\n",
       "    </tr>\n",
       "  </tbody>\n",
       "</table>\n",
       "</div>"
      ],
      "text/plain": [
       "     price                   address postal_code bedrooms        bath  \\\n",
       "0  489,000  140 CITADEL CREST CIR NW     T3G 4G3    3 bed  2 + 1 bath   \n",
       "1  351,999        79 GALBRAITH DR SW     T3E 4Z5  N/A bed    N/A bath   \n",
       "2  449,999       275 TARAVISTA ST NE     T3J 4S5    5 bed  2 + 1 bath   \n",
       "3  469,900    25 DOUGLASBANK RISE SE     T2Z 2C5    4 bed  2 + 1 bath   \n",
       "4  419,900  111 PANORAMA HILLS PL NW     T3K 4R9    3 bed      2 bath   \n",
       "\n",
       "  property_type  \n",
       "0         house  \n",
       "1         house  \n",
       "2         house  \n",
       "3         house  \n",
       "4         house  "
      ]
     },
     "execution_count": 126,
     "metadata": {},
     "output_type": "execute_result"
    }
   ],
   "source": [
    "# toronto_df = pd.concat([df_add, details_df], axis=1)\n",
    "# toronto_df.head()\n",
    "\n",
    "\n",
    "calgary_df = pd.concat([df_add, details_df], axis=1)\n",
    "calgary_df.head()"
   ]
  },
  {
   "cell_type": "code",
   "execution_count": null,
   "metadata": {},
   "outputs": [],
   "source": [
    "import csv\n",
    "row_list = [[\"SN\", \"Name\", \"Contribution\"],\n",
    "             [1, \"Linus Torvalds\", \"Linux Kernel\"],\n",
    "             [2, \"Tim Berners-Lee\", \"World Wide Web\"],\n",
    "             [3, \"Guido van Rossum\", \"Python Programming\"]]\n",
    "with open('protagonist.csv', 'w', newline='') as file:\n",
    "    writer = csv.writer(file)\n",
    "    writer.writerows(row_list)"
   ]
  },
  {
   "cell_type": "code",
   "execution_count": 141,
   "metadata": {},
   "outputs": [],
   "source": [
    "import csv\n",
    "\n",
    "calgary_df.to_csv('calgary_df.csv', encoding=\"utf-8\")"
   ]
  },
  {
   "cell_type": "markdown",
   "metadata": {},
   "source": [
    "----"
   ]
  },
  {
   "cell_type": "markdown",
   "metadata": {},
   "source": [
    "### **Testing**"
   ]
  },
  {
   "cell_type": "markdown",
   "metadata": {},
   "source": [
    "# Testing Walkscore Score"
   ]
  },
  {
   "cell_type": "markdown",
   "metadata": {},
   "source": [
    "postal_code = input(\"Please enter your postal code: \")\n",
    "if len(postal_code) != 7:\n",
    "    print (\"Error! Only 7 characters allowed! Please use the correct format\")\n",
    "\n"
   ]
  },
  {
   "cell_type": "markdown",
   "metadata": {},
   "source": [
    "postal_code = postal_code.replace(\" \", \"%20\")"
   ]
  },
  {
   "cell_type": "markdown",
   "metadata": {},
   "source": [
    "url = \"https://www.walkscore.com/score/\" + str(postal_code)\n",
    "print(url)"
   ]
  },
  {
   "cell_type": "markdown",
   "metadata": {},
   "source": [
    "# Code Starts here"
   ]
  },
  {
   "cell_type": "markdown",
   "metadata": {
    "scrolled": true
   },
   "source": [
    "post_code_list = []\n",
    "\n",
    "for i in calgary_df[\"postal_code\"]:\n",
    "    post_code_list.append(i)\n",
    "    \n",
    "post_code_list_3 = post_code_list[0:2]\n",
    "post_code_list_3"
   ]
  },
  {
   "cell_type": "code",
   "execution_count": 142,
   "metadata": {},
   "outputs": [],
   "source": [
    "score_list = []\n",
    "\n",
    "for i in calgary_df[\"postal_code\"]:\n",
    "    try:\n",
    "        postal_code = i.replace(\" \", \"%20\")\n",
    "        url = \"https://www.walkscore.com/score/\" + str(postal_code)\n",
    "\n",
    "        executable_path = {'executable_path': '/usr/local/bin/chromedriver'}\n",
    "        browser = Browser(\"chrome\", **executable_path, headless = True)\n",
    "\n",
    "        browser.visit(url)\n",
    "    #     time.sleep(2)\n",
    "    \n",
    "\n",
    "        # HTML Object\n",
    "        code_html = browser.html\n",
    "\n",
    "        # Parse HTML with Beautiful Soup\n",
    "        code_soup = BeautifulSoup(code_html, 'html.parser')\n",
    "\n",
    "        walk_score1 = code_soup.find_all('div', class_='clearfix score-div')\n",
    "        time.sleep(1)\n",
    "\n",
    "        walk_score_list = []\n",
    "\n",
    "        for j in walk_score1:\n",
    "            walk_score_list.append(j.img['alt'])\n",
    "\n",
    "            scores = []\n",
    "\n",
    "            for k in walk_score_list:\n",
    "                number = k.split(\" \")[0]\n",
    "                scores.append(number)\n",
    "\n",
    "\n",
    "        score_list.append(scores)\n",
    "        \n",
    "    except AttributeError:\n",
    "        empty = []\n",
    "        score_list.append(empty)\n",
    "  "
   ]
  },
  {
   "cell_type": "markdown",
   "metadata": {},
   "source": [
    "score_list = []\n",
    "\n",
    "for i in post_code_list:\n",
    "    try:\n",
    "        postal_code = i.replace(\" \", \"%20\")\n",
    "        url_score = \"https://www.walkscore.com/score/\" + str(postal_code)\n",
    "\n",
    "        #executable_path = {'executable_path': '/usr/local/bin/chromedriver'}\n",
    "        #browser = Browser(\"chrome\", **executable_path, headless = True)\n",
    "\n",
    "        #browser.visit(url)\n",
    "        time.sleep(2)\n",
    "\n",
    "        # HTML Object\n",
    "        #code_html = browser.html\n",
    "\n",
    "        # Parse HTML with Beautiful Soup\n",
    "        response = requests.get(url_score)\n",
    "        code_soup = BeautifulSoup(response.text, 'html.parser')\n",
    "\n",
    "        walk_score1 = code_soup.find_all('div', class_='clearfix score-div')\n",
    "        time.sleep(1)\n",
    "\n",
    "        walk_score_list = []\n",
    "\n",
    "        for j in walk_score1:\n",
    "            walk_score_list.append(j.img['alt'])\n",
    "\n",
    "            scores = []\n",
    "\n",
    "            for k in walk_score_list:\n",
    "                number = k.split(\" \")[0]\n",
    "                scores.append(number)\n",
    "\n",
    "\n",
    "        score_list.append(scores)\n",
    "        \n",
    "    except AttributeError:\n",
    "        empty = []\n",
    "        score_list.append(empty)\n",
    "        \n",
    "#         print(\"None\")\n",
    "        \n",
    "\n",
    "            \n",
    "        "
   ]
  },
  {
   "cell_type": "markdown",
   "metadata": {},
   "source": [
    "score_list = []\n",
    "\n",
    "for i in post_code_list_3:\n",
    "    try:\n",
    "        #postal_code = i.replace(\" \", \"%20\")\n",
    "        #url_score = \"https://www.walkscore.com/score/\" + str(postal_code)\n",
    "\n",
    "        #executable_path = {'executable_path': '/usr/local/bin/chromedriver'}\n",
    "        time.sleep(2)\n",
    "        browser = Browser('firefox', headless = False)\n",
    "        \n",
    "        url_walk = 'https://www.walkscore.com/score/'\n",
    "        browser.visit(url_walk)\n",
    "        browser.find_by_id(\"addrbar-street\").fill(i)\n",
    "        browser.click_link_by_partial_text(\"Go\")\n",
    "        time.sleep(3)\n",
    "        \n",
    "        \n",
    "\n",
    "        # HTML Object\n",
    "        code_html = browser.html\n",
    "        browser.quit()\n",
    "        \n",
    "\n",
    "        # Parse HTML with Beautiful Soup\n",
    "        response = requests.get(code_html)\n",
    "        code_soup = BeautifulSoup(response.text, 'html.parser')\n",
    "\n",
    "        walk_score1 = code_soup.find_all('div', class_='clearfix score-div')\n",
    "        time.sleep(1)\n",
    "\n",
    "        walk_score_list = []\n",
    "\n",
    "        for j in walk_score1:\n",
    "            walk_score_list.append(j.img['alt'])\n",
    "\n",
    "            scores = []\n",
    "\n",
    "            for k in walk_score_list:\n",
    "                number = k.split(\" \")[0]\n",
    "                scores.append(number)\n",
    "\n",
    "\n",
    "        score_list.append(scores)\n",
    "        \n",
    "        \n",
    "    except AttributeError:\n",
    "        empty = []\n",
    "        score_list.append(empty)\n",
    "        \n",
    "        \n"
   ]
  },
  {
   "cell_type": "code",
   "execution_count": 143,
   "metadata": {},
   "outputs": [
    {
     "name": "stdout",
     "output_type": "stream",
     "text": [
      "[['23', '38', '65'], ['43', '47', '67'], ['10', '49', '62'], ['22', '41', '65'], ['37', '48', '71'], ['51', '60'], ['1', '26', '36'], ['35', '37', '72'], ['9', '30', '45'], ['12', '37', '53'], ['45', '46', '55'], ['30', '41', '70'], ['86', '69', '99'], ['3', '27', '37'], ['17', '44', '48'], ['94', '76', '94'], ['1', '35', '61'], ['9', '36', '56'], ['49', '31', '62'], ['91', '67', '97'], ['23', '38', '65'], ['43', '47', '67'], ['10', '49', '62'], ['22', '41', '65'], ['37', '48', '71'], ['51', '60'], ['1', '26', '36'], ['35', '37', '72'], ['9', '30', '45'], ['12', '37', '53'], ['45', '46', '55'], ['30', '41', '70'], ['86', '69', '99'], ['3', '27', '37'], ['17', '44', '48'], ['94', '76', '94'], ['1', '35', '61'], ['9', '36', '56'], ['49', '31', '62'], ['91', '67', '97']]\n"
     ]
    }
   ],
   "source": [
    "print(score_list)"
   ]
  },
  {
   "cell_type": "code",
   "execution_count": 144,
   "metadata": {},
   "outputs": [
    {
     "data": {
      "text/plain": [
       "40"
      ]
     },
     "execution_count": 144,
     "metadata": {},
     "output_type": "execute_result"
    }
   ],
   "source": [
    "len(score_list)"
   ]
  },
  {
   "cell_type": "markdown",
   "metadata": {},
   "source": [
    "len(post_code_list)"
   ]
  },
  {
   "cell_type": "code",
   "execution_count": 145,
   "metadata": {},
   "outputs": [
    {
     "data": {
      "text/html": [
       "<div>\n",
       "<style scoped>\n",
       "    .dataframe tbody tr th:only-of-type {\n",
       "        vertical-align: middle;\n",
       "    }\n",
       "\n",
       "    .dataframe tbody tr th {\n",
       "        vertical-align: top;\n",
       "    }\n",
       "\n",
       "    .dataframe thead th {\n",
       "        text-align: right;\n",
       "    }\n",
       "</style>\n",
       "<table border=\"1\" class=\"dataframe\">\n",
       "  <thead>\n",
       "    <tr style=\"text-align: right;\">\n",
       "      <th></th>\n",
       "      <th>walk_score</th>\n",
       "      <th>transit_score</th>\n",
       "      <th>bike_score</th>\n",
       "    </tr>\n",
       "  </thead>\n",
       "  <tbody>\n",
       "    <tr>\n",
       "      <th>0</th>\n",
       "      <td>23</td>\n",
       "      <td>38</td>\n",
       "      <td>65</td>\n",
       "    </tr>\n",
       "    <tr>\n",
       "      <th>1</th>\n",
       "      <td>43</td>\n",
       "      <td>47</td>\n",
       "      <td>67</td>\n",
       "    </tr>\n",
       "    <tr>\n",
       "      <th>2</th>\n",
       "      <td>10</td>\n",
       "      <td>49</td>\n",
       "      <td>62</td>\n",
       "    </tr>\n",
       "    <tr>\n",
       "      <th>3</th>\n",
       "      <td>22</td>\n",
       "      <td>41</td>\n",
       "      <td>65</td>\n",
       "    </tr>\n",
       "    <tr>\n",
       "      <th>4</th>\n",
       "      <td>37</td>\n",
       "      <td>48</td>\n",
       "      <td>71</td>\n",
       "    </tr>\n",
       "  </tbody>\n",
       "</table>\n",
       "</div>"
      ],
      "text/plain": [
       "  walk_score transit_score bike_score\n",
       "0         23            38         65\n",
       "1         43            47         67\n",
       "2         10            49         62\n",
       "3         22            41         65\n",
       "4         37            48         71"
      ]
     },
     "execution_count": 145,
     "metadata": {},
     "output_type": "execute_result"
    }
   ],
   "source": [
    "score_df = pd.DataFrame(score_list, columns=['walk_score', \n",
    "                                             'transit_score', \n",
    "                                             'bike_score'])\n",
    "score_df.head()"
   ]
  },
  {
   "cell_type": "code",
   "execution_count": 39,
   "metadata": {},
   "outputs": [],
   "source": [
    "# copy_dd_test = data_dump1_test.copy()\n",
    "# copy_dd_test.head()"
   ]
  },
  {
   "cell_type": "code",
   "execution_count": 146,
   "metadata": {},
   "outputs": [
    {
     "data": {
      "text/html": [
       "<div>\n",
       "<style scoped>\n",
       "    .dataframe tbody tr th:only-of-type {\n",
       "        vertical-align: middle;\n",
       "    }\n",
       "\n",
       "    .dataframe tbody tr th {\n",
       "        vertical-align: top;\n",
       "    }\n",
       "\n",
       "    .dataframe thead th {\n",
       "        text-align: right;\n",
       "    }\n",
       "</style>\n",
       "<table border=\"1\" class=\"dataframe\">\n",
       "  <thead>\n",
       "    <tr style=\"text-align: right;\">\n",
       "      <th></th>\n",
       "      <th>postal_code</th>\n",
       "      <th>walk_score</th>\n",
       "      <th>transit_score</th>\n",
       "      <th>bike_score</th>\n",
       "    </tr>\n",
       "  </thead>\n",
       "  <tbody>\n",
       "    <tr>\n",
       "      <th>0</th>\n",
       "      <td>T3G 4G3</td>\n",
       "      <td>23</td>\n",
       "      <td>38</td>\n",
       "      <td>65</td>\n",
       "    </tr>\n",
       "    <tr>\n",
       "      <th>1</th>\n",
       "      <td>T3E 4Z5</td>\n",
       "      <td>43</td>\n",
       "      <td>47</td>\n",
       "      <td>67</td>\n",
       "    </tr>\n",
       "    <tr>\n",
       "      <th>2</th>\n",
       "      <td>T3J 4S5</td>\n",
       "      <td>10</td>\n",
       "      <td>49</td>\n",
       "      <td>62</td>\n",
       "    </tr>\n",
       "    <tr>\n",
       "      <th>3</th>\n",
       "      <td>T2Z 2C5</td>\n",
       "      <td>22</td>\n",
       "      <td>41</td>\n",
       "      <td>65</td>\n",
       "    </tr>\n",
       "    <tr>\n",
       "      <th>4</th>\n",
       "      <td>T3K 4R9</td>\n",
       "      <td>37</td>\n",
       "      <td>48</td>\n",
       "      <td>71</td>\n",
       "    </tr>\n",
       "  </tbody>\n",
       "</table>\n",
       "</div>"
      ],
      "text/plain": [
       "  postal_code walk_score transit_score bike_score\n",
       "0     T3G 4G3         23            38         65\n",
       "1     T3E 4Z5         43            47         67\n",
       "2     T3J 4S5         10            49         62\n",
       "3     T2Z 2C5         22            41         65\n",
       "4     T3K 4R9         37            48         71"
      ]
     },
     "execution_count": 146,
     "metadata": {},
     "output_type": "execute_result"
    }
   ],
   "source": [
    "postal_code_df = pd.DataFrame(post_code_list, columns=['postal_code'])\n",
    "merged_df = pd.concat([postal_code_df, score_df], axis=1)\n",
    "merged_df.head()"
   ]
  },
  {
   "cell_type": "code",
   "execution_count": 159,
   "metadata": {},
   "outputs": [],
   "source": [
    "calgary_df.to_csv('score_df.csv', encoding=\"utf-8\")"
   ]
  },
  {
   "cell_type": "markdown",
   "metadata": {},
   "source": [
    "\n",
    "new_df = pd.concat([calgary_df, score_df], axis=1)\n",
    "new_df.head()"
   ]
  },
  {
   "cell_type": "code",
   "execution_count": 147,
   "metadata": {
    "scrolled": true
   },
   "outputs": [
    {
     "data": {
      "text/html": [
       "<div>\n",
       "<style scoped>\n",
       "    .dataframe tbody tr th:only-of-type {\n",
       "        vertical-align: middle;\n",
       "    }\n",
       "\n",
       "    .dataframe tbody tr th {\n",
       "        vertical-align: top;\n",
       "    }\n",
       "\n",
       "    .dataframe thead th {\n",
       "        text-align: right;\n",
       "    }\n",
       "</style>\n",
       "<table border=\"1\" class=\"dataframe\">\n",
       "  <thead>\n",
       "    <tr style=\"text-align: right;\">\n",
       "      <th></th>\n",
       "      <th>price</th>\n",
       "      <th>address</th>\n",
       "      <th>postal_code</th>\n",
       "      <th>bedrooms</th>\n",
       "      <th>bath</th>\n",
       "      <th>property_type</th>\n",
       "    </tr>\n",
       "  </thead>\n",
       "  <tbody>\n",
       "    <tr>\n",
       "      <th>0</th>\n",
       "      <td>489,000</td>\n",
       "      <td>140 CITADEL CREST CIR NW</td>\n",
       "      <td>T3G 4G3</td>\n",
       "      <td>3 bed</td>\n",
       "      <td>2 + 1 bath</td>\n",
       "      <td>house</td>\n",
       "    </tr>\n",
       "    <tr>\n",
       "      <th>1</th>\n",
       "      <td>351,999</td>\n",
       "      <td>79 GALBRAITH DR SW</td>\n",
       "      <td>T3E 4Z5</td>\n",
       "      <td>N/A bed</td>\n",
       "      <td>N/A bath</td>\n",
       "      <td>house</td>\n",
       "    </tr>\n",
       "    <tr>\n",
       "      <th>2</th>\n",
       "      <td>449,999</td>\n",
       "      <td>275 TARAVISTA ST NE</td>\n",
       "      <td>T3J 4S5</td>\n",
       "      <td>5 bed</td>\n",
       "      <td>2 + 1 bath</td>\n",
       "      <td>house</td>\n",
       "    </tr>\n",
       "    <tr>\n",
       "      <th>3</th>\n",
       "      <td>469,900</td>\n",
       "      <td>25 DOUGLASBANK RISE SE</td>\n",
       "      <td>T2Z 2C5</td>\n",
       "      <td>4 bed</td>\n",
       "      <td>2 + 1 bath</td>\n",
       "      <td>house</td>\n",
       "    </tr>\n",
       "    <tr>\n",
       "      <th>4</th>\n",
       "      <td>419,900</td>\n",
       "      <td>111 PANORAMA HILLS PL NW</td>\n",
       "      <td>T3K 4R9</td>\n",
       "      <td>3 bed</td>\n",
       "      <td>2 bath</td>\n",
       "      <td>house</td>\n",
       "    </tr>\n",
       "  </tbody>\n",
       "</table>\n",
       "</div>"
      ],
      "text/plain": [
       "     price                   address postal_code bedrooms        bath  \\\n",
       "0  489,000  140 CITADEL CREST CIR NW     T3G 4G3    3 bed  2 + 1 bath   \n",
       "1  351,999        79 GALBRAITH DR SW     T3E 4Z5  N/A bed    N/A bath   \n",
       "2  449,999       275 TARAVISTA ST NE     T3J 4S5    5 bed  2 + 1 bath   \n",
       "3  469,900    25 DOUGLASBANK RISE SE     T2Z 2C5    4 bed  2 + 1 bath   \n",
       "4  419,900  111 PANORAMA HILLS PL NW     T3K 4R9    3 bed      2 bath   \n",
       "\n",
       "  property_type  \n",
       "0         house  \n",
       "1         house  \n",
       "2         house  \n",
       "3         house  \n",
       "4         house  "
      ]
     },
     "execution_count": 147,
     "metadata": {},
     "output_type": "execute_result"
    }
   ],
   "source": [
    "calgary_df.head()"
   ]
  },
  {
   "cell_type": "markdown",
   "metadata": {},
   "source": [
    "https://www.walkscore.com/score/t2m%202c7"
   ]
  },
  {
   "cell_type": "code",
   "execution_count": 154,
   "metadata": {},
   "outputs": [],
   "source": [
    "from sqlalchemy import create_engine"
   ]
  },
  {
   "cell_type": "code",
   "execution_count": 157,
   "metadata": {},
   "outputs": [],
   "source": [
    "rds_connection_string = \"postgres:123@localhost:5432/realestate_db\"\n",
    "engine = create_engine(f'postgresql://{rds_connection_string}')"
   ]
  },
  {
   "cell_type": "code",
   "execution_count": 158,
   "metadata": {},
   "outputs": [
    {
     "data": {
      "text/plain": [
       "[]"
      ]
     },
     "execution_count": 158,
     "metadata": {},
     "output_type": "execute_result"
    }
   ],
   "source": [
    "engine.table_names()"
   ]
  },
  {
   "cell_type": "code",
   "execution_count": 29,
   "metadata": {},
   "outputs": [],
   "source": [
    "calgary_df.to_sql(name= \"calgary_df\", \n",
    "                      con=engine, \n",
    "                      if_exists=\"append\", \n",
    "                      index=False)"
   ]
  },
  {
   "cell_type": "code",
   "execution_count": null,
   "metadata": {},
   "outputs": [],
   "source": []
  }
 ],
 "metadata": {
  "kernelspec": {
   "display_name": "Python 3",
   "language": "python",
   "name": "python3"
  },
  "language_info": {
   "codemirror_mode": {
    "name": "ipython",
    "version": 3
   },
   "file_extension": ".py",
   "mimetype": "text/x-python",
   "name": "python",
   "nbconvert_exporter": "python",
   "pygments_lexer": "ipython3",
   "version": "3.7.6"
  }
 },
 "nbformat": 4,
 "nbformat_minor": 2
}
